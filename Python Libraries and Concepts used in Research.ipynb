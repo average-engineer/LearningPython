{
 "cells": [
  {
   "cell_type": "markdown",
   "id": "9bd0385b",
   "metadata": {},
   "source": [
    "<h2>Scope Rules</h2>\n",
    "\n",
    "Suppose there are multiple functions with the same name and multiple variables with the same name. How does Python decide which function and variable to use when?\n",
    "\n",
    "It uses the ***Scope Rules***. There are multiple layers and python searches for objects layers by layer, moving from the inner layers towards the outer layers.\n",
    "\n",
    "**Scope Rule Memorisation**: ***LEGB***.\n",
    "\n",
    "* **L**: Local\n",
    "* **E**: Enclosing Function\n",
    "* **G**: Global\n",
    "* **B**: Built-In\n",
    "\n",
    "Local is the current function you're in. Enclosing function is the function which calls the current function. Global is the module in which the function was defined. Bulti-In is Python's built in namespace.\n",
    "\n",
    "***When Python can not resolve a name, a name error exception is generated and the program execution stops at this moment.***"
   ]
  },
  {
   "cell_type": "code",
   "execution_count": 3,
   "id": "0efd468e",
   "metadata": {},
   "outputs": [],
   "source": [
    "# Example\n",
    "# Update Function\n",
    "def update():\n",
    "    x.append(1)"
   ]
  },
  {
   "cell_type": "code",
   "execution_count": 4,
   "id": "26091c46",
   "metadata": {},
   "outputs": [
    {
     "ename": "NameError",
     "evalue": "name 'x' is not defined",
     "output_type": "error",
     "traceback": [
      "\u001b[1;31m---------------------------------------------------------------------------\u001b[0m",
      "\u001b[1;31mNameError\u001b[0m                                 Traceback (most recent call last)",
      "\u001b[1;32m~\\AppData\\Local\\Temp/ipykernel_15500/2181275362.py\u001b[0m in \u001b[0;36m<module>\u001b[1;34m\u001b[0m\n\u001b[0;32m      1\u001b[0m \u001b[1;31m# Executing the function\u001b[0m\u001b[1;33m\u001b[0m\u001b[1;33m\u001b[0m\u001b[1;33m\u001b[0m\u001b[0m\n\u001b[1;32m----> 2\u001b[1;33m \u001b[0mupdate\u001b[0m\u001b[1;33m(\u001b[0m\u001b[1;33m)\u001b[0m\u001b[1;33m\u001b[0m\u001b[1;33m\u001b[0m\u001b[0m\n\u001b[0m",
      "\u001b[1;32m~\\AppData\\Local\\Temp/ipykernel_15500/2053928317.py\u001b[0m in \u001b[0;36mupdate\u001b[1;34m()\u001b[0m\n\u001b[0;32m      2\u001b[0m \u001b[1;31m# Update Function\u001b[0m\u001b[1;33m\u001b[0m\u001b[1;33m\u001b[0m\u001b[1;33m\u001b[0m\u001b[0m\n\u001b[0;32m      3\u001b[0m \u001b[1;32mdef\u001b[0m \u001b[0mupdate\u001b[0m\u001b[1;33m(\u001b[0m\u001b[1;33m)\u001b[0m\u001b[1;33m:\u001b[0m\u001b[1;33m\u001b[0m\u001b[1;33m\u001b[0m\u001b[0m\n\u001b[1;32m----> 4\u001b[1;33m     \u001b[0mx\u001b[0m\u001b[1;33m.\u001b[0m\u001b[0mappend\u001b[0m\u001b[1;33m(\u001b[0m\u001b[1;36m1\u001b[0m\u001b[1;33m)\u001b[0m\u001b[1;33m\u001b[0m\u001b[1;33m\u001b[0m\u001b[0m\n\u001b[0m",
      "\u001b[1;31mNameError\u001b[0m: name 'x' is not defined"
     ]
    }
   ],
   "source": [
    "# Executing the function\n",
    "update()\n",
    "# When this function is run, a name error is shown saying the name x is not defined."
   ]
  },
  {
   "cell_type": "code",
   "execution_count": 5,
   "id": "8c003911",
   "metadata": {},
   "outputs": [],
   "source": [
    "# Defining the variable x globally (outside the update function)\n",
    "x = [2,3,4]\n",
    "update()"
   ]
  },
  {
   "cell_type": "code",
   "execution_count": 6,
   "id": "e33307f7",
   "metadata": {},
   "outputs": [
    {
     "data": {
      "text/plain": [
       "[2, 3, 4, 1]"
      ]
     },
     "execution_count": 6,
     "metadata": {},
     "output_type": "execute_result"
    }
   ],
   "source": [
    "x"
   ]
  },
  {
   "cell_type": "code",
   "execution_count": null,
   "id": "277ee9a5",
   "metadata": {},
   "outputs": [],
   "source": [
    "# Procedure taken by Python\n",
    "# Using LEGB rule, it looks in the inner most layer (Local update function) but it can't find x there.\n",
    "# Then it moves on to the next higher layer, which is an enclosing function, but there is no enclosing function since we do not\n",
    "# call the update function from within another function.\n",
    "# Then it moves on to the next layer which is the global layer where x has been defined as a list object. Since x is the first \n",
    "# object with the name `x`, it will use that in the function."
   ]
  },
  {
   "cell_type": "code",
   "execution_count": 7,
   "id": "764f93f6",
   "metadata": {},
   "outputs": [
    {
     "name": "stdout",
     "output_type": "stream",
     "text": [
      "main: 1 [0, 1, 2, 3]\n",
      "update: 2 [0, 1, 2, 3, 4]\n",
      "main: 1 [0, 1, 2, 3, 4]\n"
     ]
    }
   ],
   "source": [
    "# Example\n",
    "def update(n,x):\n",
    "    n = 2\n",
    "    x.append(4)\n",
    "    print('update:',n,x)\n",
    "\n",
    "def main():\n",
    "    n = 1\n",
    "    x = [0,1,2,3]\n",
    "    print('main:',n,x)\n",
    "    update(n,x)\n",
    "    print('main:',n,x)\n",
    "\n",
    "main()\n",
    "\n",
    "# Flow of code and what exactly is happening here\n",
    "# n defined as a integer number (immutable)\n",
    "# x defined as a list (mutable)\n",
    "# Line 9: n and x are printed as 1 and [0,1,2,3] respectively\n",
    "# Line 10: inside the function update, n is redefined again but x is just modified\n",
    "# Due to the LEGB scope rules, Python recognises n as 2 (instead of 1) since \n",
    "# it has been defined as 2 inside the local update function (inner most layer)\n",
    "# while for x, it looks at the next highest layer whoch is the enclosing main\n",
    "# function. \n",
    "\n",
    "# Line 10: The print output of update thus prints n as 2 and x as [0,1,2,3,4]\n",
    "# Line 11: Now when n and x are printed, x is the modified list (mutable object)\n",
    "# while n is still 1 as now the lowest layer is the main function."
   ]
  },
  {
   "cell_type": "code",
   "execution_count": null,
   "id": "667e63b8",
   "metadata": {},
   "outputs": [],
   "source": [
    "# Example\n",
    "def increment(n):\n",
    "    n = n+1\n",
    "    print(n)\n",
    "    \n",
    "n = 1\n",
    "increment(n)\n",
    "print(n)\n",
    "\n",
    "# Expected Output: 2;1\n",
    "# Since numbers are immutable (thus n doesn't change when n = n+1 inside the increment function)"
   ]
  },
  {
   "cell_type": "code",
   "execution_count": 10,
   "id": "6235c680",
   "metadata": {},
   "outputs": [
    {
     "name": "stdout",
     "output_type": "stream",
     "text": [
      "10\n"
     ]
    }
   ],
   "source": [
    "# Example\n",
    "def incr(n):\n",
    "    n = n+1\n",
    "    return n # The reassigned variable name referring to the increased number is returned\n",
    "\n",
    "n = 1\n",
    "while n<10:\n",
    "    n = incr(n) # Since this function returns the reassigned name to the increased nuber, n also becomes reassigned to the \n",
    "                # increased number\n",
    "print(n)"
   ]
  },
  {
   "cell_type": "markdown",
   "id": "028bca38",
   "metadata": {},
   "source": [
    "<h2>Classes and Object Oriented Programming</h2>\n",
    "\n",
    "Main emphasis on: *Functional Programming*.\n",
    "\n",
    "We can create new objects via **classes**. The object will be the instance of that particular class. Class is basically the blueprint for that object.\n",
    "\n",
    "**Inheritance**: we can inherit properties (functions/methods and fields) of other existing classes/objects. The baseclass (superclass) and the derived class (subclass). The derived class can be seen as a more specialised version of its base class, i.e. it will have all the properties of its base class but also its add on properties.\n",
    "\n",
    "Defining a class just provides the blueprint for the new object but its is not the object itself or the execution of it. It is analogous to defining a function. When we define a function, we are just giving a blueprint for how the function works instead of calling or executing the function."
   ]
  },
  {
   "cell_type": "code",
   "execution_count": 12,
   "id": "c5ec2edc",
   "metadata": {},
   "outputs": [
    {
     "data": {
      "text/plain": [
       "2"
      ]
     },
     "execution_count": 12,
     "metadata": {},
     "output_type": "execute_result"
    }
   ],
   "source": [
    "# Reviewing already existing methods for the list object\n",
    "x = [5,2,9,11,10,2,7]\n",
    "\n",
    "min(x) # lowest element of the list\n",
    "    "
   ]
  },
  {
   "cell_type": "code",
   "execution_count": 13,
   "id": "05e44fab",
   "metadata": {},
   "outputs": [
    {
     "data": {
      "text/plain": [
       "11"
      ]
     },
     "execution_count": 13,
     "metadata": {},
     "output_type": "execute_result"
    }
   ],
   "source": [
    "max(x) # highest element of the list"
   ]
  },
  {
   "cell_type": "code",
   "execution_count": 15,
   "id": "6d2ef45e",
   "metadata": {},
   "outputs": [
    {
     "data": {
      "text/plain": [
       "[5, 9, 11, 10, 2, 7]"
      ]
     },
     "execution_count": 15,
     "metadata": {},
     "output_type": "execute_result"
    }
   ],
   "source": [
    "# Removing elements from a list\n",
    "x.remove(2)\n",
    "x\n",
    "# if there are multiple elements of the same number being removed, only the first instance will be removed"
   ]
  },
  {
   "cell_type": "code",
   "execution_count": 16,
   "id": "3bebc8ea",
   "metadata": {},
   "outputs": [],
   "source": [
    "# Example:\n",
    "class MyClass(list): # ClassName(Object/Class it is inheriting from)\n",
    "    # Defnining the methods/functions associated with the object (Instance Methods)\n",
    "    def remove_min(self): # Removes the lowest number of the list itself\n",
    "        self.remove(min(self))\n",
    "    def remove_max(self): # Removes the highest number of the list\n",
    "        self.remove(max(self))\n",
    "    # Self: Instance Variable of the class\n",
    "    # For the above methods, the min,max and remove methods of list objects have been inherited"
   ]
  },
  {
   "cell_type": "code",
   "execution_count": 17,
   "id": "89585350",
   "metadata": {},
   "outputs": [],
   "source": [
    "# Example\n",
    "x = [2,4,3,6,5,7] # Standard List\n",
    "y = MyClass(x) # y is the new object which is governed by MyClass class"
   ]
  },
  {
   "cell_type": "code",
   "execution_count": 18,
   "id": "2a27f5f2",
   "metadata": {},
   "outputs": [
    {
     "data": {
      "text/plain": [
       "['__add__',\n",
       " '__class__',\n",
       " '__contains__',\n",
       " '__delattr__',\n",
       " '__delitem__',\n",
       " '__dict__',\n",
       " '__dir__',\n",
       " '__doc__',\n",
       " '__eq__',\n",
       " '__format__',\n",
       " '__ge__',\n",
       " '__getattribute__',\n",
       " '__getitem__',\n",
       " '__gt__',\n",
       " '__hash__',\n",
       " '__iadd__',\n",
       " '__imul__',\n",
       " '__init__',\n",
       " '__init_subclass__',\n",
       " '__iter__',\n",
       " '__le__',\n",
       " '__len__',\n",
       " '__lt__',\n",
       " '__module__',\n",
       " '__mul__',\n",
       " '__ne__',\n",
       " '__new__',\n",
       " '__reduce__',\n",
       " '__reduce_ex__',\n",
       " '__repr__',\n",
       " '__reversed__',\n",
       " '__rmul__',\n",
       " '__setattr__',\n",
       " '__setitem__',\n",
       " '__sizeof__',\n",
       " '__str__',\n",
       " '__subclasshook__',\n",
       " '__weakref__',\n",
       " 'append',\n",
       " 'clear',\n",
       " 'copy',\n",
       " 'count',\n",
       " 'extend',\n",
       " 'index',\n",
       " 'insert',\n",
       " 'pop',\n",
       " 'remove',\n",
       " 'remove_max',\n",
       " 'remove_min',\n",
       " 'reverse',\n",
       " 'sort']"
      ]
     },
     "execution_count": 18,
     "metadata": {},
     "output_type": "execute_result"
    }
   ],
   "source": [
    "# Available methods for object y\n",
    "dir(y)\n",
    "# It will have all the methods of a standard list object (since it has inherited from it) plus the two additional methods we \n",
    "# defined seperately"
   ]
  },
  {
   "cell_type": "code",
   "execution_count": 19,
   "id": "9502eb20",
   "metadata": {},
   "outputs": [
    {
     "data": {
      "text/plain": [
       "[4, 3, 6, 5, 7]"
      ]
     },
     "execution_count": 19,
     "metadata": {},
     "output_type": "execute_result"
    }
   ],
   "source": [
    "y.remove_min()\n",
    "y"
   ]
  },
  {
   "cell_type": "code",
   "execution_count": 20,
   "id": "9d56af48",
   "metadata": {},
   "outputs": [
    {
     "data": {
      "text/plain": [
       "[4, 3, 6, 5]"
      ]
     },
     "execution_count": 20,
     "metadata": {},
     "output_type": "execute_result"
    }
   ],
   "source": [
    "y.remove_max()\n",
    "y"
   ]
  },
  {
   "cell_type": "code",
   "execution_count": 21,
   "id": "450518c0",
   "metadata": {},
   "outputs": [],
   "source": [
    "# Example\n",
    "# New Object\n",
    "class NewList(list):\n",
    "    def remove_max(self):\n",
    "        self.remove(max(self)) # Removes the highest number of the list\n",
    "    def append_sum(self):\n",
    "        self.append(sum(self)) # Appends the sum of the list elements to the list"
   ]
  },
  {
   "cell_type": "code",
   "execution_count": 22,
   "id": "1c90e491",
   "metadata": {},
   "outputs": [
    {
     "ename": "KeyboardInterrupt",
     "evalue": "",
     "output_type": "error",
     "traceback": [
      "\u001b[1;31m---------------------------------------------------------------------------\u001b[0m",
      "\u001b[1;31mKeyboardInterrupt\u001b[0m                         Traceback (most recent call last)",
      "\u001b[1;32m~\\AppData\\Local\\Temp/ipykernel_15500/207602851.py\u001b[0m in \u001b[0;36m<module>\u001b[1;34m\u001b[0m\n\u001b[0;32m      1\u001b[0m \u001b[0mx\u001b[0m \u001b[1;33m=\u001b[0m \u001b[0mNewList\u001b[0m\u001b[1;33m(\u001b[0m\u001b[1;33m[\u001b[0m\u001b[1;36m1\u001b[0m\u001b[1;33m,\u001b[0m\u001b[1;36m2\u001b[0m\u001b[1;33m,\u001b[0m\u001b[1;36m3\u001b[0m\u001b[1;33m]\u001b[0m\u001b[1;33m)\u001b[0m \u001b[1;31m# x is of the object type NewList\u001b[0m\u001b[1;33m\u001b[0m\u001b[1;33m\u001b[0m\u001b[0m\n\u001b[0;32m      2\u001b[0m \u001b[1;32mwhile\u001b[0m \u001b[0mmax\u001b[0m\u001b[1;33m(\u001b[0m\u001b[0mx\u001b[0m\u001b[1;33m)\u001b[0m \u001b[1;33m<\u001b[0m\u001b[1;36m10\u001b[0m\u001b[1;33m:\u001b[0m\u001b[1;33m\u001b[0m\u001b[1;33m\u001b[0m\u001b[0m\n\u001b[1;32m----> 3\u001b[1;33m     \u001b[0mx\u001b[0m\u001b[1;33m.\u001b[0m\u001b[0mremove_max\u001b[0m\u001b[1;33m(\u001b[0m\u001b[1;33m)\u001b[0m\u001b[1;33m\u001b[0m\u001b[1;33m\u001b[0m\u001b[0m\n\u001b[0m\u001b[0;32m      4\u001b[0m     \u001b[0mx\u001b[0m\u001b[1;33m.\u001b[0m\u001b[0mappend_sum\u001b[0m\u001b[1;33m(\u001b[0m\u001b[1;33m)\u001b[0m\u001b[1;33m\u001b[0m\u001b[1;33m\u001b[0m\u001b[0m\n\u001b[0;32m      5\u001b[0m \u001b[1;33m\u001b[0m\u001b[0m\n",
      "\u001b[1;31mKeyboardInterrupt\u001b[0m: "
     ]
    }
   ],
   "source": [
    "x = NewList([1,2,3]) # x is of the object type NewList\n",
    "while max(x) <10:\n",
    "    x.remove_max()\n",
    "    x.append_sum()\n",
    "    \n",
    "print(x)\n",
    "\n",
    "# Process:\n",
    "# x -> [1,2,3]\n",
    "# max(x) = 3\n",
    "# x -> [1,2]\n",
    "# x -> [1,2,3]\n",
    "# and the same continues\n",
    "# this program will never halt"
   ]
  },
  {
   "cell_type": "markdown",
   "id": "4569a363",
   "metadata": {},
   "source": [
    "<h2>NumPy and Arrays</h2>\n",
    "\n",
    "NumPy arrays: n-dimensional arrays.\n",
    "\n",
    "Reference: numpy.org\n",
    "\n",
    "**NumPy Arrays**:\n",
    "* Unlike standard Python lists, NumPy arrays are of a given size and length and it can't be changed once created\n",
    "* They can only contain data of one data type only with floating point numbers being the standard data type\n"
   ]
  },
  {
   "cell_type": "code",
   "execution_count": 23,
   "id": "83f09675",
   "metadata": {},
   "outputs": [
    {
     "data": {
      "text/plain": [
       "array([0., 0., 0., 0., 0.])"
      ]
     },
     "execution_count": 23,
     "metadata": {},
     "output_type": "execute_result"
    }
   ],
   "source": [
    "import numpy as np # Importing NumPy arrays\n",
    "zero_vector = np.zeros(5) # a row vector of zeros is formed\n",
    "zero_vector"
   ]
  },
  {
   "cell_type": "code",
   "execution_count": 24,
   "id": "5899b78d",
   "metadata": {},
   "outputs": [
    {
     "data": {
      "text/plain": [
       "array([[0., 0., 0.],\n",
       "       [0., 0., 0.],\n",
       "       [0., 0., 0.],\n",
       "       [0., 0., 0.],\n",
       "       [0., 0., 0.]])"
      ]
     },
     "execution_count": 24,
     "metadata": {},
     "output_type": "execute_result"
    }
   ],
   "source": [
    "zero_matrix = np.zeros((5,3)) # A tuple is used to denote the number of rows and columns in the matrix\n",
    "zero_matrix"
   ]
  },
  {
   "cell_type": "code",
   "execution_count": 25,
   "id": "48ffeaf8",
   "metadata": {},
   "outputs": [
    {
     "data": {
      "text/plain": [
       "array([4.24399158e-314, 0.00000000e+000, 0.00000000e+000, 0.00000000e+000])"
      ]
     },
     "execution_count": 25,
     "metadata": {},
     "output_type": "execute_result"
    }
   ],
   "source": [
    "# Empty Array (Similar to NaN array in MATLAB)\n",
    "empt_array = np.empty(4)\n",
    "empt_array\n",
    "# Empty array allocates the requested space for the array, but does not initialise it\n",
    "# Helpful in saving compjtational time when we know the array is going to get updated every iteration of a loop or something"
   ]
  },
  {
   "cell_type": "code",
   "execution_count": 26,
   "id": "cb1197c6",
   "metadata": {},
   "outputs": [
    {
     "data": {
      "text/plain": [
       "array([1, 2, 3, 4])"
      ]
     },
     "execution_count": 26,
     "metadata": {},
     "output_type": "execute_result"
    }
   ],
   "source": [
    "# Making arrays formed from list objects\n",
    "list_array = np.array([1,2,3,4])\n",
    "list_array"
   ]
  },
  {
   "cell_type": "code",
   "execution_count": 27,
   "id": "3b25276b",
   "metadata": {},
   "outputs": [
    {
     "data": {
      "text/plain": [
       "array([[1, 3],\n",
       "       [5, 9]])"
      ]
     },
     "execution_count": 27,
     "metadata": {},
     "output_type": "execute_result"
    }
   ],
   "source": [
    "# Example\n",
    "x = np.array([1,2,3])\n",
    "y = np.array([2,3,6])\n",
    "# 2D array\n",
    "TwoDarray = np.array([[1,3],[5,9]]) # The rows are contained in sublists seperated by a comma, which in turn are nested into a \n",
    "                                    # bigger list. The comma between the sublists basically signifies the row change\n",
    "TwoDarray"
   ]
  },
  {
   "cell_type": "code",
   "execution_count": 28,
   "id": "cf9e8d55",
   "metadata": {},
   "outputs": [
    {
     "data": {
      "text/plain": [
       "array([[1, 5],\n",
       "       [3, 9]])"
      ]
     },
     "execution_count": 28,
     "metadata": {},
     "output_type": "execute_result"
    }
   ],
   "source": [
    "# Transopse of a 2D array\n",
    "TwoDarrayT = TwoDarray.transpose()\n",
    "TwoDarrayT"
   ]
  },
  {
   "cell_type": "markdown",
   "id": "8ff561a4",
   "metadata": {},
   "source": [
    "<h3>Slicing NumPy Arrays</h3>\n",
    "\n",
    "First Index: Row of array\n",
    "\n",
    "Second Index: Column of Array\n",
    "\n",
    "Similar to standard slicing, the last index of the slicing range is not included."
   ]
  },
  {
   "cell_type": "code",
   "execution_count": 30,
   "id": "962b2a4d",
   "metadata": {},
   "outputs": [],
   "source": [
    "# 2 1D arrays\n",
    "x = np.array([1,2,3])\n",
    "y = np.array([2,3,6])\n",
    "# 2 2D arrays\n",
    "X = np.array([[1,2,3],[4,5,6]])\n",
    "Y = np.array([[2,3,6],[8,10,12]])"
   ]
  },
  {
   "cell_type": "code",
   "execution_count": 31,
   "id": "fb31f12c",
   "metadata": {},
   "outputs": [
    {
     "data": {
      "text/plain": [
       "3"
      ]
     },
     "execution_count": 31,
     "metadata": {},
     "output_type": "execute_result"
    }
   ],
   "source": [
    "x[2]"
   ]
  },
  {
   "cell_type": "code",
   "execution_count": 32,
   "id": "8b0df278",
   "metadata": {},
   "outputs": [
    {
     "data": {
      "text/plain": [
       "array([1, 2])"
      ]
     },
     "execution_count": 32,
     "metadata": {},
     "output_type": "execute_result"
    }
   ],
   "source": [
    "x[0:2]"
   ]
  },
  {
   "cell_type": "code",
   "execution_count": 33,
   "id": "bc1445f6",
   "metadata": {},
   "outputs": [
    {
     "data": {
      "text/plain": [
       "array([1, 2, 3])"
      ]
     },
     "execution_count": 33,
     "metadata": {},
     "output_type": "execute_result"
    }
   ],
   "source": [
    "x"
   ]
  },
  {
   "cell_type": "code",
   "execution_count": 34,
   "id": "86510899",
   "metadata": {},
   "outputs": [
    {
     "data": {
      "text/plain": [
       "array([3, 5, 9])"
      ]
     },
     "execution_count": 34,
     "metadata": {},
     "output_type": "execute_result"
    }
   ],
   "source": [
    "z = x + y\n",
    "z # Element wise additions of x and y"
   ]
  },
  {
   "cell_type": "code",
   "execution_count": 35,
   "id": "7e8943d1",
   "metadata": {},
   "outputs": [
    {
     "data": {
      "text/plain": [
       "array([2, 5])"
      ]
     },
     "execution_count": 35,
     "metadata": {},
     "output_type": "execute_result"
    }
   ],
   "source": [
    "X[:,1] # Second column of array X"
   ]
  },
  {
   "cell_type": "code",
   "execution_count": 36,
   "id": "61c63e86",
   "metadata": {},
   "outputs": [
    {
     "data": {
      "text/plain": [
       "array([ 5, 15])"
      ]
     },
     "execution_count": 36,
     "metadata": {},
     "output_type": "execute_result"
    }
   ],
   "source": [
    "X[:,1] + Y[:,1] # Adding the second columns of array X and Y"
   ]
  },
  {
   "cell_type": "code",
   "execution_count": 37,
   "id": "f95a3e90",
   "metadata": {},
   "outputs": [
    {
     "data": {
      "text/plain": [
       "[1, 2, 3, 4]"
      ]
     },
     "execution_count": 37,
     "metadata": {},
     "output_type": "execute_result"
    }
   ],
   "source": [
    "# VERY IMPORTANT\n",
    "# List1 + List2 -> ?\n",
    "[1,2] + [3,4]\n",
    "# The + sign concatinates the two lists together instead of doing element wise addition"
   ]
  },
  {
   "cell_type": "code",
   "execution_count": 38,
   "id": "ff1eb165",
   "metadata": {},
   "outputs": [
    {
     "data": {
      "text/plain": [
       "array([4, 6])"
      ]
     },
     "execution_count": 38,
     "metadata": {},
     "output_type": "execute_result"
    }
   ],
   "source": [
    "# instead\n",
    "np.array([1,2]) + np.array([3,4])"
   ]
  },
  {
   "cell_type": "markdown",
   "id": "35e2a8a0",
   "metadata": {},
   "source": [
    "<h3>Indexing of Arrays</h3>"
   ]
  },
  {
   "cell_type": "code",
   "execution_count": 39,
   "id": "b7ce2f57",
   "metadata": {},
   "outputs": [
    {
     "data": {
      "text/plain": [
       "array([ 2,  4,  6,  8, 10])"
      ]
     },
     "execution_count": 39,
     "metadata": {},
     "output_type": "execute_result"
    }
   ],
   "source": [
    "z1 = np.array([1,3,5,7,9])\n",
    "z2 = z1 + 1 # 1 is added to every single element of z1\n",
    "z2"
   ]
  },
  {
   "cell_type": "code",
   "execution_count": 40,
   "id": "610c6e15",
   "metadata": {},
   "outputs": [
    {
     "data": {
      "text/plain": [
       "array([1, 5, 7])"
      ]
     },
     "execution_count": 40,
     "metadata": {},
     "output_type": "execute_result"
    }
   ],
   "source": [
    "# List for indexing\n",
    "ind = [0,2,3]\n",
    "z1[ind] # 1st, 3rd and 4th elements of the array are returned"
   ]
  },
  {
   "cell_type": "code",
   "execution_count": 42,
   "id": "3cb033d4",
   "metadata": {},
   "outputs": [
    {
     "data": {
      "text/plain": [
       "array([1, 5, 7])"
      ]
     },
     "execution_count": 42,
     "metadata": {},
     "output_type": "execute_result"
    }
   ],
   "source": [
    "# NumPy array for indexing\n",
    "ind = np.array([0,2,3])\n",
    "z1[ind]"
   ]
  },
  {
   "cell_type": "markdown",
   "id": "9f90dc37",
   "metadata": {},
   "source": [
    "***NumPy Arrays can be indexed using boolean expressions too (True/False)***"
   ]
  },
  {
   "cell_type": "code",
   "execution_count": 43,
   "id": "70a21d5e",
   "metadata": {},
   "outputs": [
    {
     "data": {
      "text/plain": [
       "array([False, False, False,  True,  True])"
      ]
     },
     "execution_count": 43,
     "metadata": {},
     "output_type": "execute_result"
    }
   ],
   "source": [
    "# Boolean array\n",
    "z1>6 # this compares every element of z1 to and based on the comparison fills in boolean expressions in the corresponding array\n",
    "     # indices"
   ]
  },
  {
   "cell_type": "code",
   "execution_count": 44,
   "id": "291cc24a",
   "metadata": {},
   "outputs": [
    {
     "data": {
      "text/plain": [
       "array([7, 9])"
      ]
     },
     "execution_count": 44,
     "metadata": {},
     "output_type": "execute_result"
    }
   ],
   "source": [
    "# Another example\n",
    "z1[z1>6] # all those indices will be returned where the corresponding element is greater than 6"
   ]
  },
  {
   "cell_type": "code",
   "execution_count": 45,
   "id": "142b4f37",
   "metadata": {},
   "outputs": [
    {
     "data": {
      "text/plain": [
       "array([ 8, 10])"
      ]
     },
     "execution_count": 45,
     "metadata": {},
     "output_type": "execute_result"
    }
   ],
   "source": [
    "z2[z1>6]"
   ]
  },
  {
   "cell_type": "code",
   "execution_count": 47,
   "id": "77e00be4",
   "metadata": {},
   "outputs": [
    {
     "data": {
      "text/plain": [
       "array([False, False, False,  True,  True])"
      ]
     },
     "execution_count": 47,
     "metadata": {},
     "output_type": "execute_result"
    }
   ],
   "source": [
    "ind = z1>6 # Constructing a logical vector [false,false,false,true,true]\n",
    "ind"
   ]
  },
  {
   "cell_type": "code",
   "execution_count": 48,
   "id": "63a6e6e8",
   "metadata": {},
   "outputs": [
    {
     "data": {
      "text/plain": [
       "array([7, 9])"
      ]
     },
     "execution_count": 48,
     "metadata": {},
     "output_type": "execute_result"
    }
   ],
   "source": [
    "z1[ind] # Only the elements corresponding to True will be returned"
   ]
  },
  {
   "cell_type": "markdown",
   "id": "c8684085",
   "metadata": {},
   "source": [
    "**Very Important**: *When we index arrays, we are just returning **copies** of the orgiginal array, so even if we modify the indexed array, the original array won't get modified. But slicing is a view into the original array. Thus, if we modify the sliced array, the original array will also get modified.*"
   ]
  },
  {
   "cell_type": "code",
   "execution_count": 49,
   "id": "d8158b09",
   "metadata": {},
   "outputs": [
    {
     "data": {
      "text/plain": [
       "False"
      ]
     },
     "execution_count": 49,
     "metadata": {},
     "output_type": "execute_result"
    }
   ],
   "source": [
    "a = np.array([1,2])\n",
    "b = np.array([3,4,5])\n",
    "c = b[1:] # from 2nd element till the end\n",
    "b[a] is c # False since b[a] is an indexing of array b which means it is a copy of the original array and thus a different\n",
    "          # object. c is a slicing of b thus a view into b array but still a different object from b[a]"
   ]
  },
  {
   "cell_type": "code",
   "execution_count": 50,
   "id": "fcb20da5",
   "metadata": {},
   "outputs": [
    {
     "data": {
      "text/plain": [
       "array([ True,  True])"
      ]
     },
     "execution_count": 50,
     "metadata": {},
     "output_type": "execute_result"
    }
   ],
   "source": [
    "b[a] == c # True since the content is the same"
   ]
  },
  {
   "cell_type": "code",
   "execution_count": null,
   "id": "b5ca41c9",
   "metadata": {},
   "outputs": [],
   "source": []
  }
 ],
 "metadata": {
  "kernelspec": {
   "display_name": "Python 3 (ipykernel)",
   "language": "python",
   "name": "python3"
  },
  "language_info": {
   "codemirror_mode": {
    "name": "ipython",
    "version": 3
   },
   "file_extension": ".py",
   "mimetype": "text/x-python",
   "name": "python",
   "nbconvert_exporter": "python",
   "pygments_lexer": "ipython3",
   "version": "3.8.12"
  }
 },
 "nbformat": 4,
 "nbformat_minor": 5
}
