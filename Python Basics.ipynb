{
 "cells": [
  {
   "cell_type": "markdown",
   "id": "ee0d6d98",
   "metadata": {},
   "source": [
    "<h3>Difference between Data Attribute and Method"
   ]
  },
  {
   "cell_type": "code",
   "execution_count": 7,
   "id": "57671f41",
   "metadata": {},
   "outputs": [],
   "source": [
    "import numpy as np # importing numpy"
   ]
  },
  {
   "cell_type": "code",
   "execution_count": 8,
   "id": "23b26230",
   "metadata": {},
   "outputs": [],
   "source": [
    "# Two sample numpy arrays (two objects)\n",
    "x = np.array([1,3,5])\n",
    "y = np.array([1,5,9])"
   ]
  },
  {
   "cell_type": "code",
   "execution_count": 9,
   "id": "32ba1cd7",
   "metadata": {},
   "outputs": [
    {
     "data": {
      "text/plain": [
       "3.0"
      ]
     },
     "execution_count": 9,
     "metadata": {},
     "output_type": "execute_result"
    }
   ],
   "source": [
    "# Mean of the numbers in the arrays (Method/Function)\n",
    "# Methods always have parenthesis\n",
    "x.mean()"
   ]
  },
  {
   "cell_type": "code",
   "execution_count": 10,
   "id": "8b8676aa",
   "metadata": {},
   "outputs": [
    {
     "data": {
      "text/plain": [
       "5.0"
      ]
     },
     "execution_count": 10,
     "metadata": {},
     "output_type": "execute_result"
    }
   ],
   "source": [
    "y.mean()"
   ]
  },
  {
   "cell_type": "code",
   "execution_count": 11,
   "id": "1a8bc318",
   "metadata": {},
   "outputs": [
    {
     "data": {
      "text/plain": [
       "(3,)"
      ]
     },
     "execution_count": 11,
     "metadata": {},
     "output_type": "execute_result"
    }
   ],
   "source": [
    "# Size of both the arrays (Data Attribute)\n",
    "# Data Attributes have no parenthesis\n",
    "x.shape"
   ]
  },
  {
   "cell_type": "code",
   "execution_count": 12,
   "id": "3b9c18bb",
   "metadata": {},
   "outputs": [
    {
     "data": {
      "text/plain": [
       "(3,)"
      ]
     },
     "execution_count": 12,
     "metadata": {},
     "output_type": "execute_result"
    }
   ],
   "source": [
    "y.shape"
   ]
  },
  {
   "cell_type": "markdown",
   "id": "433df425",
   "metadata": {},
   "source": [
    "<h3> Python Modules"
   ]
  },
  {
   "cell_type": "code",
   "execution_count": 16,
   "id": "e1848d09",
   "metadata": {},
   "outputs": [],
   "source": [
    "# Importing math module\n",
    "# All Mathematical operations can be done\n",
    "import math"
   ]
  },
  {
   "cell_type": "code",
   "execution_count": 17,
   "id": "c73b063f",
   "metadata": {},
   "outputs": [
    {
     "data": {
      "text/plain": [
       "3.141592653589793"
      ]
     },
     "execution_count": 17,
     "metadata": {},
     "output_type": "execute_result"
    }
   ],
   "source": [
    "# Directly using the value of Pi\n",
    "math.pi"
   ]
  },
  {
   "cell_type": "code",
   "execution_count": 18,
   "id": "f9113f55",
   "metadata": {},
   "outputs": [
    {
     "data": {
      "text/plain": [
       "3.1622776601683795"
      ]
     },
     "execution_count": 18,
     "metadata": {},
     "output_type": "execute_result"
    }
   ],
   "source": [
    "# Square Root Function\n",
    "math.sqrt(10)"
   ]
  },
  {
   "cell_type": "code",
   "execution_count": 19,
   "id": "63dac887",
   "metadata": {},
   "outputs": [
    {
     "data": {
      "text/plain": [
       "1.5707963267948966"
      ]
     },
     "execution_count": 19,
     "metadata": {},
     "output_type": "execute_result"
    }
   ],
   "source": [
    "# Value of sin(pi/2)\n",
    "math.pi/2 # Value of Pi/2"
   ]
  },
  {
   "cell_type": "code",
   "execution_count": 20,
   "id": "633640bb",
   "metadata": {},
   "outputs": [
    {
     "data": {
      "text/plain": [
       "1.0"
      ]
     },
     "execution_count": 20,
     "metadata": {},
     "output_type": "execute_result"
    }
   ],
   "source": [
    "# Taking the sin\n",
    "math.sin(math.pi/2)"
   ]
  },
  {
   "cell_type": "code",
   "execution_count": 21,
   "id": "98862149",
   "metadata": {},
   "outputs": [
    {
     "data": {
      "text/plain": [
       "3.141592653589793"
      ]
     },
     "execution_count": 21,
     "metadata": {},
     "output_type": "execute_result"
    }
   ],
   "source": [
    "# If we want to import just a single operation/value from a module\n",
    "# For example we wanna use just pi from the math module and nothing else\n",
    "from math import pi\n",
    "pi # Here we can now use pi without including the module name (math.pi doesn't need to be used)"
   ]
  },
  {
   "cell_type": "markdown",
   "id": "bc7b80d0",
   "metadata": {},
   "source": [
    "<h3> Namespaces </h3>\n",
    "    \n",
    "Namespaces are containers of names of objects which typically go together. \n",
    "Main aim of namespaces is to prevent naming conflicts.\n",
    "    \n",
    "Once a module is imported into python, a seperate namespace is created for that module and all the methods/functions associated with that module are executed in its particular namespace."
   ]
  },
  {
   "cell_type": "code",
   "execution_count": 22,
   "id": "f194b9ab",
   "metadata": {},
   "outputs": [],
   "source": [
    "# Example: Both math and numpy modules have the square root function. Both look the same at initial glance\n",
    "# They exist in different namespaces\n",
    "import math\n",
    "import numpy as np"
   ]
  },
  {
   "cell_type": "code",
   "execution_count": 23,
   "id": "6a40915c",
   "metadata": {},
   "outputs": [
    {
     "data": {
      "text/plain": [
       "3.0"
      ]
     },
     "execution_count": 23,
     "metadata": {},
     "output_type": "execute_result"
    }
   ],
   "source": [
    "# Finding Square Root of 9 using math module\n",
    "math.sqrt(9)"
   ]
  },
  {
   "cell_type": "code",
   "execution_count": 24,
   "id": "7deaad45",
   "metadata": {},
   "outputs": [
    {
     "data": {
      "text/plain": [
       "3.0"
      ]
     },
     "execution_count": 24,
     "metadata": {},
     "output_type": "execute_result"
    }
   ],
   "source": [
    "# Finding Square Root of 9 using numpy module\n",
    "np.sqrt(9)"
   ]
  },
  {
   "cell_type": "code",
   "execution_count": 27,
   "id": "a984065a",
   "metadata": {},
   "outputs": [
    {
     "data": {
      "text/plain": [
       "array([3.16227766, 3.        , 4.12310563])"
      ]
     },
     "execution_count": 27,
     "metadata": {},
     "output_type": "execute_result"
    }
   ],
   "source": [
    "# Where Do they differ?\n",
    "# numpy module square root can doa lot of things math module square root can't\n",
    "# Example: numpy square root can find out the sqrt of multiple values at once but math sqrt can not\n",
    "np.sqrt([10,9,17])"
   ]
  },
  {
   "cell_type": "code",
   "execution_count": 26,
   "id": "16543508",
   "metadata": {},
   "outputs": [
    {
     "ename": "TypeError",
     "evalue": "must be real number, not list",
     "output_type": "error",
     "traceback": [
      "\u001b[1;31m---------------------------------------------------------------------------\u001b[0m",
      "\u001b[1;31mTypeError\u001b[0m                                 Traceback (most recent call last)",
      "\u001b[1;32m~\\AppData\\Local\\Temp/ipykernel_26776/3715085742.py\u001b[0m in \u001b[0;36m<module>\u001b[1;34m\u001b[0m\n\u001b[1;32m----> 1\u001b[1;33m \u001b[0mmath\u001b[0m\u001b[1;33m.\u001b[0m\u001b[0msqrt\u001b[0m\u001b[1;33m(\u001b[0m\u001b[1;33m[\u001b[0m\u001b[1;36m10\u001b[0m\u001b[1;33m,\u001b[0m\u001b[1;36m9\u001b[0m\u001b[1;33m,\u001b[0m\u001b[1;36m17\u001b[0m\u001b[1;33m]\u001b[0m\u001b[1;33m)\u001b[0m\u001b[1;33m\u001b[0m\u001b[1;33m\u001b[0m\u001b[0m\n\u001b[0m",
      "\u001b[1;31mTypeError\u001b[0m: must be real number, not list"
     ]
    }
   ],
   "source": [
    "math.sqrt([10,9,17]) # Doesnt work"
   ]
  },
  {
   "cell_type": "markdown",
   "id": "7528dbfc",
   "metadata": {},
   "source": [
    "<h3> Defining the type of the object and methods available to us for each object </h3>"
   ]
  },
  {
   "cell_type": "code",
   "execution_count": 28,
   "id": "21804ed2",
   "metadata": {},
   "outputs": [],
   "source": [
    "# String\n",
    "name = \"Ashu\""
   ]
  },
  {
   "cell_type": "code",
   "execution_count": 29,
   "id": "22907412",
   "metadata": {},
   "outputs": [
    {
     "data": {
      "text/plain": [
       "str"
      ]
     },
     "execution_count": 29,
     "metadata": {},
     "output_type": "execute_result"
    }
   ],
   "source": [
    "# Type function\n",
    "type(name) # Output: str (String)"
   ]
  },
  {
   "cell_type": "code",
   "execution_count": 30,
   "id": "55c2007e",
   "metadata": {},
   "outputs": [
    {
     "data": {
      "text/plain": [
       "['__add__',\n",
       " '__class__',\n",
       " '__contains__',\n",
       " '__delattr__',\n",
       " '__dir__',\n",
       " '__doc__',\n",
       " '__eq__',\n",
       " '__format__',\n",
       " '__ge__',\n",
       " '__getattribute__',\n",
       " '__getitem__',\n",
       " '__getnewargs__',\n",
       " '__gt__',\n",
       " '__hash__',\n",
       " '__init__',\n",
       " '__init_subclass__',\n",
       " '__iter__',\n",
       " '__le__',\n",
       " '__len__',\n",
       " '__lt__',\n",
       " '__mod__',\n",
       " '__mul__',\n",
       " '__ne__',\n",
       " '__new__',\n",
       " '__reduce__',\n",
       " '__reduce_ex__',\n",
       " '__repr__',\n",
       " '__rmod__',\n",
       " '__rmul__',\n",
       " '__setattr__',\n",
       " '__sizeof__',\n",
       " '__str__',\n",
       " '__subclasshook__',\n",
       " 'capitalize',\n",
       " 'casefold',\n",
       " 'center',\n",
       " 'count',\n",
       " 'encode',\n",
       " 'endswith',\n",
       " 'expandtabs',\n",
       " 'find',\n",
       " 'format',\n",
       " 'format_map',\n",
       " 'index',\n",
       " 'isalnum',\n",
       " 'isalpha',\n",
       " 'isascii',\n",
       " 'isdecimal',\n",
       " 'isdigit',\n",
       " 'isidentifier',\n",
       " 'islower',\n",
       " 'isnumeric',\n",
       " 'isprintable',\n",
       " 'isspace',\n",
       " 'istitle',\n",
       " 'isupper',\n",
       " 'join',\n",
       " 'ljust',\n",
       " 'lower',\n",
       " 'lstrip',\n",
       " 'maketrans',\n",
       " 'partition',\n",
       " 'replace',\n",
       " 'rfind',\n",
       " 'rindex',\n",
       " 'rjust',\n",
       " 'rpartition',\n",
       " 'rsplit',\n",
       " 'rstrip',\n",
       " 'split',\n",
       " 'splitlines',\n",
       " 'startswith',\n",
       " 'strip',\n",
       " 'swapcase',\n",
       " 'title',\n",
       " 'translate',\n",
       " 'upper',\n",
       " 'zfill']"
      ]
     },
     "execution_count": 30,
     "metadata": {},
     "output_type": "execute_result"
    }
   ],
   "source": [
    "# We can use dir to explore what methods we can use on the defined object\n",
    "dir(name)"
   ]
  },
  {
   "cell_type": "code",
   "execution_count": 31,
   "id": "76c8f924",
   "metadata": {},
   "outputs": [
    {
     "data": {
      "text/plain": [
       "['__add__',\n",
       " '__class__',\n",
       " '__contains__',\n",
       " '__delattr__',\n",
       " '__dir__',\n",
       " '__doc__',\n",
       " '__eq__',\n",
       " '__format__',\n",
       " '__ge__',\n",
       " '__getattribute__',\n",
       " '__getitem__',\n",
       " '__getnewargs__',\n",
       " '__gt__',\n",
       " '__hash__',\n",
       " '__init__',\n",
       " '__init_subclass__',\n",
       " '__iter__',\n",
       " '__le__',\n",
       " '__len__',\n",
       " '__lt__',\n",
       " '__mod__',\n",
       " '__mul__',\n",
       " '__ne__',\n",
       " '__new__',\n",
       " '__reduce__',\n",
       " '__reduce_ex__',\n",
       " '__repr__',\n",
       " '__rmod__',\n",
       " '__rmul__',\n",
       " '__setattr__',\n",
       " '__sizeof__',\n",
       " '__str__',\n",
       " '__subclasshook__',\n",
       " 'capitalize',\n",
       " 'casefold',\n",
       " 'center',\n",
       " 'count',\n",
       " 'encode',\n",
       " 'endswith',\n",
       " 'expandtabs',\n",
       " 'find',\n",
       " 'format',\n",
       " 'format_map',\n",
       " 'index',\n",
       " 'isalnum',\n",
       " 'isalpha',\n",
       " 'isascii',\n",
       " 'isdecimal',\n",
       " 'isdigit',\n",
       " 'isidentifier',\n",
       " 'islower',\n",
       " 'isnumeric',\n",
       " 'isprintable',\n",
       " 'isspace',\n",
       " 'istitle',\n",
       " 'isupper',\n",
       " 'join',\n",
       " 'ljust',\n",
       " 'lower',\n",
       " 'lstrip',\n",
       " 'maketrans',\n",
       " 'partition',\n",
       " 'replace',\n",
       " 'rfind',\n",
       " 'rindex',\n",
       " 'rjust',\n",
       " 'rpartition',\n",
       " 'rsplit',\n",
       " 'rstrip',\n",
       " 'split',\n",
       " 'splitlines',\n",
       " 'startswith',\n",
       " 'strip',\n",
       " 'swapcase',\n",
       " 'title',\n",
       " 'translate',\n",
       " 'upper',\n",
       " 'zfill']"
      ]
     },
     "execution_count": 31,
     "metadata": {},
     "output_type": "execute_result"
    }
   ],
   "source": [
    "# Alternatively we can just do the same for strings in general\n",
    "dir(str)"
   ]
  },
  {
   "cell_type": "code",
   "execution_count": 32,
   "id": "b9476b3a",
   "metadata": {},
   "outputs": [
    {
     "name": "stdout",
     "output_type": "stream",
     "text": [
      "Help on built-in function upper:\n",
      "\n",
      "upper() method of builtins.str instance\n",
      "    Return a copy of the string converted to uppercase.\n",
      "\n"
     ]
    }
   ],
   "source": [
    "# Parenthesis should be taken care of when using methods on an object\n",
    "# Suppose we want to find out what the 'upper method' does\n",
    "help(name.upper)"
   ]
  },
  {
   "cell_type": "code",
   "execution_count": 33,
   "id": "8401aabb",
   "metadata": {},
   "outputs": [
    {
     "data": {
      "text/plain": [
       "'ASHU'"
      ]
     },
     "execution_count": 33,
     "metadata": {},
     "output_type": "execute_result"
    }
   ],
   "source": [
    "# So we know name.upper will give ASHU as the output\n",
    "name.upper()"
   ]
  },
  {
   "cell_type": "code",
   "execution_count": 34,
   "id": "5a9deea4",
   "metadata": {},
   "outputs": [
    {
     "name": "stdout",
     "output_type": "stream",
     "text": [
      "No Python documentation found for 'ASHU'.\n",
      "Use help() to get the interactive help utility.\n",
      "Use help(str) for help on the str class.\n",
      "\n"
     ]
    }
   ],
   "source": [
    "# Very Important: if we use this\n",
    "help(name.upper())\n",
    "# It will show no results since here we are effectively finding help for ASHU instead of upper\n",
    "# Whenever we apply parenthesis with the methods, we are calling those methods and Python executes them"
   ]
  },
  {
   "cell_type": "markdown",
   "id": "77895aef",
   "metadata": {},
   "source": [
    "<h3> Types of Numbers in Python </h3>\n",
    "\n",
    "There are 3 types of numbers in pyhton:\n",
    "* Integers\n",
    "* Floating Point Numbers\n",
    "* Complex Numbers\n",
    "\n",
    "Python integers have infinite precision i.e. no integer is too long to fit into Python's integer type."
   ]
  },
  {
   "cell_type": "code",
   "execution_count": 1,
   "id": "6b1da16b",
   "metadata": {},
   "outputs": [
    {
     "data": {
      "text/plain": [
       "144"
      ]
     },
     "execution_count": 1,
     "metadata": {},
     "output_type": "execute_result"
    }
   ],
   "source": [
    "# Basic Mathematical Operations\n",
    "123 + 21"
   ]
  },
  {
   "cell_type": "code",
   "execution_count": 2,
   "id": "6f4bb610",
   "metadata": {},
   "outputs": [
    {
     "data": {
      "text/plain": [
       "4182"
      ]
     },
     "execution_count": 2,
     "metadata": {},
     "output_type": "execute_result"
    }
   ],
   "source": [
    " 123*34"
   ]
  },
  {
   "cell_type": "code",
   "execution_count": 3,
   "id": "84027ed2",
   "metadata": {},
   "outputs": [
    {
     "data": {
      "text/plain": [
       "142188"
      ]
     },
     "execution_count": 3,
     "metadata": {},
     "output_type": "execute_result"
    }
   ],
   "source": [
    "4182*34"
   ]
  },
  {
   "cell_type": "code",
   "execution_count": 4,
   "id": "0f4f56a3",
   "metadata": {},
   "outputs": [
    {
     "data": {
      "text/plain": [
       "113965602005968684136628000184496763088921243891670079405854808234118809"
      ]
     },
     "execution_count": 4,
     "metadata": {},
     "output_type": "execute_result"
    }
   ],
   "source": [
    "123**34 # ** means raised to the power of"
   ]
  },
  {
   "cell_type": "code",
   "execution_count": 8,
   "id": "4812fff4",
   "metadata": {},
   "outputs": [
    {
     "data": {
      "text/plain": [
       "369605043991517498309321770153515768959333235183449940293512656282988146628985675725772651889296931897093646783185776727893691566496103666240193110526706133777054655335516602676288290960327688318168724018982211975493206241924966262914690892820785494811551069735565682343037943834764093485704425051057132755753104272983834039028350769615914559315676748388553914217244332116716386644381919901708113967998169625368833738312812418247458222344807676840653491670779617760556766725094895290508402598186536833756858868965009556391097183345354385639656615530144150926579926498683959987807250451608804356657546028260432473146644295644308157319536582622214466304815868115088617654648010591593643768841672431537178808516401"
      ]
     },
     "execution_count": 8,
     "metadata": {},
     "output_type": "execute_result"
    }
   ],
   "source": [
    "123**340\n",
    "# Basically, the point is that however long the integer is, it can be stored and operated on in Python (infinite precision)"
   ]
  },
  {
   "cell_type": "code",
   "execution_count": 9,
   "id": "9f3acafe",
   "metadata": {},
   "outputs": [
    {
     "data": {
      "text/plain": [
       "0.8571428571428571"
      ]
     },
     "execution_count": 9,
     "metadata": {},
     "output_type": "execute_result"
    }
   ],
   "source": [
    "6/7 # Floating point answer (with a decimal point)"
   ]
  },
  {
   "cell_type": "code",
   "execution_count": 10,
   "id": "aa306638",
   "metadata": {},
   "outputs": [
    {
     "data": {
      "text/plain": [
       "3"
      ]
     },
     "execution_count": 10,
     "metadata": {},
     "output_type": "execute_result"
    }
   ],
   "source": [
    "# Floor Division/integer division: After division, Python rounds up the answer to the closest integer which is smaller than the actual\n",
    "# answer (integers larger than the actual answer are not considered)\n",
    "# For Eg:\n",
    "123//32"
   ]
  },
  {
   "cell_type": "code",
   "execution_count": 11,
   "id": "2c100711",
   "metadata": {},
   "outputs": [
    {
     "data": {
      "text/plain": [
       "3.84375"
      ]
     },
     "execution_count": 11,
     "metadata": {},
     "output_type": "execute_result"
    }
   ],
   "source": [
    "123/32"
   ]
  },
  {
   "cell_type": "code",
   "execution_count": 3,
   "id": "14e34538",
   "metadata": {},
   "outputs": [
    {
     "data": {
      "text/plain": [
       "6.25"
      ]
     },
     "execution_count": 3,
     "metadata": {},
     "output_type": "execute_result"
    }
   ],
   "source": [
    "# Underscore (_) returns the last operation carried out by us\n",
    "# For eg:\n",
    "15/2.4"
   ]
  },
  {
   "cell_type": "code",
   "execution_count": 4,
   "id": "c01f259e",
   "metadata": {},
   "outputs": [
    {
     "data": {
      "text/plain": [
       "2.604166666666667"
      ]
     },
     "execution_count": 4,
     "metadata": {},
     "output_type": "execute_result"
    }
   ],
   "source": [
    "# Now we want to use the previous answer for the next operation\n",
    "_/2.4\n",
    "# In this case, _ represents the last operation value/answer which in this case was 6.25"
   ]
  },
  {
   "cell_type": "code",
   "execution_count": 16,
   "id": "b8d73a77",
   "metadata": {},
   "outputs": [
    {
     "data": {
      "text/plain": [
       "24"
      ]
     },
     "execution_count": 16,
     "metadata": {},
     "output_type": "execute_result"
    }
   ],
   "source": [
    " # Suppose we want to compute 3!\n",
    "import math # importing math module\n",
    "math.factorial(4) # Factorial is the method inside the math module"
   ]
  },
  {
   "cell_type": "markdown",
   "id": "01fca62f",
   "metadata": {},
   "source": [
    "<h3> Random Choice </h3>\n",
    "\n",
    "We sometimes want to do some randomta with the objects we have.\n",
    "For eg: A random sampling process"
   ]
  },
  {
   "cell_type": "code",
   "execution_count": 19,
   "id": "71bfe249",
   "metadata": {},
   "outputs": [
    {
     "data": {
      "text/plain": [
       "12"
      ]
     },
     "execution_count": 19,
     "metadata": {},
     "output_type": "execute_result"
    }
   ],
   "source": [
    "# Suppose we have a list of numbers and we want to pick up some random number from the list. \n",
    "import random # Importing the random module\n",
    "list = ([12,34,56,11])\n",
    "random.choice(list)"
   ]
  },
  {
   "cell_type": "code",
   "execution_count": 20,
   "id": "950030d0",
   "metadata": {},
   "outputs": [
    {
     "data": {
      "text/plain": [
       "56"
      ]
     },
     "execution_count": 20,
     "metadata": {},
     "output_type": "execute_result"
    }
   ],
   "source": [
    "random.choice(list)"
   ]
  },
  {
   "cell_type": "code",
   "execution_count": 21,
   "id": "6a1b7f2b",
   "metadata": {},
   "outputs": [
    {
     "data": {
      "text/plain": [
       "56"
      ]
     },
     "execution_count": 21,
     "metadata": {},
     "output_type": "execute_result"
    }
   ],
   "source": [
    "random.choice(list)"
   ]
  },
  {
   "cell_type": "code",
   "execution_count": 22,
   "id": "a145f7fb",
   "metadata": {},
   "outputs": [
    {
     "data": {
      "text/plain": [
       "11"
      ]
     },
     "execution_count": 22,
     "metadata": {},
     "output_type": "execute_result"
    }
   ],
   "source": [
    "random.choice(list)\n",
    "# Each time the command is run, it gives a random number out of the given list"
   ]
  },
  {
   "cell_type": "code",
   "execution_count": 23,
   "id": "122316d8",
   "metadata": {},
   "outputs": [
    {
     "data": {
      "text/plain": [
       "11"
      ]
     },
     "execution_count": 23,
     "metadata": {},
     "output_type": "execute_result"
    }
   ],
   "source": [
    "# Python usually doesnt care about the nature of the objects it is dealing with and ususally works the same way for all types\n",
    "# of objects.\n",
    "# For example, we can use the random choice method for a list of strings too\n",
    "list_str = ([\"aa\",\"ab\",\"cc\",\"de\"])\n",
    "random.choice(list)"
   ]
  },
  {
   "cell_type": "code",
   "execution_count": 24,
   "id": "49c12f4e",
   "metadata": {},
   "outputs": [
    {
     "data": {
      "text/plain": [
       "'cc'"
      ]
     },
     "execution_count": 24,
     "metadata": {},
     "output_type": "execute_result"
    }
   ],
   "source": [
    "random.choice(list_str)"
   ]
  },
  {
   "cell_type": "code",
   "execution_count": 25,
   "id": "7525b47a",
   "metadata": {},
   "outputs": [
    {
     "data": {
      "text/plain": [
       "'aa'"
      ]
     },
     "execution_count": 25,
     "metadata": {},
     "output_type": "execute_result"
    }
   ],
   "source": [
    "random.choice(list_str)"
   ]
  },
  {
   "cell_type": "code",
   "execution_count": 26,
   "id": "06693e74",
   "metadata": {},
   "outputs": [
    {
     "data": {
      "text/plain": [
       "'cc'"
      ]
     },
     "execution_count": 26,
     "metadata": {},
     "output_type": "execute_result"
    }
   ],
   "source": [
    "random.choice(list_str)"
   ]
  },
  {
   "cell_type": "markdown",
   "id": "0d120deb",
   "metadata": {},
   "source": [
    "<h3> Expressions and Booleans </h3>\n",
    "\n",
    "Expressions usually contain booleans.\n",
    "\n",
    "Bollean Types: 'True' and 'False'.\n",
    "\n",
    "The T and the F need to be capitalized in order for Python to understand that these are of Boolean type.\n",
    "\n",
    "Very Very Important: True->Bollean but 'True'->String"
   ]
  },
  {
   "cell_type": "code",
   "execution_count": 1,
   "id": "b9eb34a6",
   "metadata": {},
   "outputs": [
    {
     "data": {
      "text/plain": [
       "str"
      ]
     },
     "execution_count": 1,
     "metadata": {},
     "output_type": "execute_result"
    }
   ],
   "source": [
    "# Observing the type of data\n",
    "type('True') # String"
   ]
  },
  {
   "cell_type": "code",
   "execution_count": 2,
   "id": "f2d20bb7",
   "metadata": {},
   "outputs": [
    {
     "data": {
      "text/plain": [
       "bool"
      ]
     },
     "execution_count": 2,
     "metadata": {},
     "output_type": "execute_result"
    }
   ],
   "source": [
    "type(True) # Boolean"
   ]
  },
  {
   "cell_type": "code",
   "execution_count": 3,
   "id": "cbc79e6b",
   "metadata": {},
   "outputs": [
    {
     "ename": "NameError",
     "evalue": "name 'true' is not defined",
     "output_type": "error",
     "traceback": [
      "\u001b[1;31m---------------------------------------------------------------------------\u001b[0m",
      "\u001b[1;31mNameError\u001b[0m                                 Traceback (most recent call last)",
      "\u001b[1;32m~\\AppData\\Local\\Temp/ipykernel_5680/3769134765.py\u001b[0m in \u001b[0;36m<module>\u001b[1;34m\u001b[0m\n\u001b[1;32m----> 1\u001b[1;33m \u001b[0mtype\u001b[0m\u001b[1;33m(\u001b[0m\u001b[0mtrue\u001b[0m\u001b[1;33m)\u001b[0m \u001b[1;31m# Python won't recognise this\u001b[0m\u001b[1;33m\u001b[0m\u001b[1;33m\u001b[0m\u001b[0m\n\u001b[0m",
      "\u001b[1;31mNameError\u001b[0m: name 'true' is not defined"
     ]
    }
   ],
   "source": [
    "type(true) # Python won't recognise this"
   ]
  },
  {
   "cell_type": "markdown",
   "id": "1b2e36a2",
   "metadata": {},
   "source": [
    "<h3> Boolean Types </h3>\n",
    "\n",
    "* OR\n",
    "* AND\n",
    "* NOT"
   ]
  },
  {
   "cell_type": "code",
   "execution_count": 4,
   "id": "b46201f8",
   "metadata": {},
   "outputs": [
    {
     "data": {
      "text/plain": [
       "True"
      ]
     },
     "execution_count": 4,
     "metadata": {},
     "output_type": "execute_result"
    }
   ],
   "source": [
    "# Testing OR logic\n",
    "True or False # Will be True (1)"
   ]
  },
  {
   "cell_type": "code",
   "execution_count": 5,
   "id": "f72d9e91",
   "metadata": {},
   "outputs": [
    {
     "data": {
      "text/plain": [
       "False"
      ]
     },
     "execution_count": 5,
     "metadata": {},
     "output_type": "execute_result"
    }
   ],
   "source": [
    "# Testing OR logic\n",
    "False or False # Will be False (0)"
   ]
  },
  {
   "cell_type": "code",
   "execution_count": 6,
   "id": "6e226b6e",
   "metadata": {},
   "outputs": [
    {
     "data": {
      "text/plain": [
       "False"
      ]
     },
     "execution_count": 6,
     "metadata": {},
     "output_type": "execute_result"
    }
   ],
   "source": [
    "# Testing AND logic\n",
    "True and False # Will be False (0)"
   ]
  },
  {
   "cell_type": "code",
   "execution_count": 7,
   "id": "eea4d8e2",
   "metadata": {},
   "outputs": [
    {
     "data": {
      "text/plain": [
       "True"
      ]
     },
     "execution_count": 7,
     "metadata": {},
     "output_type": "execute_result"
    }
   ],
   "source": [
    "# Testing AND logic\n",
    "True and True # Will be True (1)"
   ]
  },
  {
   "cell_type": "code",
   "execution_count": 8,
   "id": "173544b6",
   "metadata": {},
   "outputs": [
    {
     "data": {
      "text/plain": [
       "False"
      ]
     },
     "execution_count": 8,
     "metadata": {},
     "output_type": "execute_result"
    }
   ],
   "source": [
    "# Testing NOT logic\n",
    "not True # Will be False (0)"
   ]
  },
  {
   "cell_type": "markdown",
   "id": "8d1eea1b",
   "metadata": {},
   "source": [
    "<h3> Comparison Types in Python </h3>\n",
    "\n",
    "The results of comparison are usually in boolean format (i.e. True or False)"
   ]
  },
  {
   "cell_type": "code",
   "execution_count": 9,
   "id": "1d5fd50c",
   "metadata": {},
   "outputs": [
    {
     "data": {
      "text/plain": [
       "True"
      ]
     },
     "execution_count": 9,
     "metadata": {},
     "output_type": "execute_result"
    }
   ],
   "source": [
    "# Basic Comparisons\n",
    "2<4"
   ]
  },
  {
   "cell_type": "code",
   "execution_count": 10,
   "id": "f81f6374",
   "metadata": {},
   "outputs": [
    {
     "data": {
      "text/plain": [
       "True"
      ]
     },
     "execution_count": 10,
     "metadata": {},
     "output_type": "execute_result"
    }
   ],
   "source": [
    "# Basic Comparisons\n",
    "2 == 2"
   ]
  },
  {
   "cell_type": "code",
   "execution_count": 11,
   "id": "d1dcef19",
   "metadata": {},
   "outputs": [
    {
     "data": {
      "text/plain": [
       "False"
      ]
     },
     "execution_count": 11,
     "metadata": {},
     "output_type": "execute_result"
    }
   ],
   "source": [
    "# Basic Comparisons\n",
    "2!=2"
   ]
  },
  {
   "cell_type": "markdown",
   "id": "d0a9b623",
   "metadata": {},
   "source": [
    "Comparisons are only used to compare the **contents** of the objects and not the objects themselves."
   ]
  },
  {
   "cell_type": "code",
   "execution_count": 14,
   "id": "8a8622e8",
   "metadata": {},
   "outputs": [],
   "source": [
    "# Example\n",
    "aa = [2,3,4] # First Array"
   ]
  },
  {
   "cell_type": "code",
   "execution_count": 15,
   "id": "da7d8c2a",
   "metadata": {},
   "outputs": [],
   "source": [
    "bb = [2,3,4] # Second Array (having same values as the first array)"
   ]
  },
  {
   "cell_type": "code",
   "execution_count": 16,
   "id": "4a18b12d",
   "metadata": {},
   "outputs": [
    {
     "data": {
      "text/plain": [
       "True"
      ]
     },
     "execution_count": 16,
     "metadata": {},
     "output_type": "execute_result"
    }
   ],
   "source": [
    "aa == bb # Is aa equal to bb\n",
    "# True since both have the same content"
   ]
  },
  {
   "cell_type": "code",
   "execution_count": 17,
   "id": "d32b9dc8",
   "metadata": {},
   "outputs": [
    {
     "data": {
      "text/plain": [
       "False"
      ]
     },
     "execution_count": 17,
     "metadata": {},
     "output_type": "execute_result"
    }
   ],
   "source": [
    "# But are aa and bb the same objects?\n",
    "# aa and bb are different objects as they have been defined seperately\n",
    "# To compare whether they are the same object:\n",
    "aa is bb # False since aa and bb are different objects"
   ]
  },
  {
   "cell_type": "code",
   "execution_count": 18,
   "id": "eec7da07",
   "metadata": {},
   "outputs": [
    {
     "data": {
      "text/plain": [
       "True"
      ]
     },
     "execution_count": 18,
     "metadata": {},
     "output_type": "execute_result"
    }
   ],
   "source": [
    "aa is not bb # True since aa and bb are different objects"
   ]
  },
  {
   "cell_type": "markdown",
   "id": "866e7568",
   "metadata": {},
   "source": [
    "<h4> Difference between `is` and == </h4>\n",
    "\n",
    "is compares the **identity** of two objects (whether they are the same object), while == compares the **value** of two objects (whether thy have the same content)."
   ]
  },
  {
   "cell_type": "code",
   "execution_count": 19,
   "id": "c0aa6abe",
   "metadata": {},
   "outputs": [
    {
     "data": {
      "text/plain": [
       "True"
      ]
     },
     "execution_count": 19,
     "metadata": {},
     "output_type": "execute_result"
    }
   ],
   "source": [
    "# Example\n",
    "# Comparing 2 and 2.0\n",
    "# 2 is an integer and 2.0 is a floating point number\n",
    "2 == 2.0\n",
    "# The result is True. Python implicitly converts the integer number into a floating point number (2->2.0)"
   ]
  },
  {
   "cell_type": "code",
   "execution_count": 20,
   "id": "8f8e1295",
   "metadata": {},
   "outputs": [
    {
     "data": {
      "text/plain": [
       "True"
      ]
     },
     "execution_count": 20,
     "metadata": {},
     "output_type": "execute_result"
    }
   ],
   "source": [
    "# Example\n",
    "True and not False is True\n",
    "# Breakdown:\n",
    "# not False -> True\n",
    "# True and True is True\n",
    "# True and True -> True\n",
    "# True is True -> True\n",
    "# Result: True"
   ]
  },
  {
   "cell_type": "markdown",
   "id": "c808578a",
   "metadata": {},
   "source": [
    "<h2> Sequence Objects </h2>\n",
    "<h3> Sequences </h3>\n",
    "\n",
    "Types of sequences in Python:\n",
    "* Lists\n",
    "* Tuples (Column Vectors)\n",
    "* Range Objects\n",
    "* Strings\n",
    "\n",
    "All sequence datatypes support the common sequence operations/methods, but each type of sequence datatype has its own exclusive operations/methods too.\n",
    "\n",
    "**Important Points**:\n",
    "* Indexing starts from 0 (like Java and C, unlike Matlab)\n",
    "* We can access sequence elements left to right (Index 0 to n-1) OR right to left (Index -1 to -n)\n",
    "\n",
    "<h3> Slicing of Sequences </h3>\n",
    "Like in Matlab, we can slice the sequences by picking up a range of elements only\n",
    "\n",
    "`s = some sequence, s[Start Index : Stop Index]`\n",
    "\n",
    "This will give us the elements of the sequence from the Start Index to the index **just before** the stop index i.e. **it doesn't give us the stop index**."
   ]
  },
  {
   "cell_type": "code",
   "execution_count": 2,
   "id": "694f81ad",
   "metadata": {},
   "outputs": [
    {
     "name": "stdout",
     "output_type": "stream",
     "text": [
      "[1, 2, 3, 4, 5]\n"
     ]
    }
   ],
   "source": [
    "s = [1,2,3,4,5,6] # List\n",
    "# Attempting Slicing operation\n",
    "a = s[0:5] # a should be [1,2,3,4,5] i.e. till Index 4 of s\n",
    "print(a) # Printing/displaying the list a (object)"
   ]
  },
  {
   "cell_type": "code",
   "execution_count": 2,
   "id": "f52d1e07",
   "metadata": {},
   "outputs": [
    {
     "data": {
      "text/plain": [
       "5"
      ]
     },
     "execution_count": 2,
     "metadata": {},
     "output_type": "execute_result"
    }
   ],
   "source": [
    "# Length of list a\n",
    "len(a)"
   ]
  },
  {
   "cell_type": "code",
   "execution_count": 13,
   "id": "dc1f9c0c",
   "metadata": {},
   "outputs": [
    {
     "data": {
      "text/plain": [
       "3"
      ]
     },
     "execution_count": 13,
     "metadata": {},
     "output_type": "execute_result"
    }
   ],
   "source": [
    "# Accessing last element of array\n",
    "s[-1]\n",
    "# Accessing second last element of array\n",
    "s[-2]\n",
    "# Accessing fourth last element of array\n",
    "s[-4]"
   ]
  },
  {
   "cell_type": "code",
   "execution_count": 6,
   "id": "09201928",
   "metadata": {},
   "outputs": [
    {
     "data": {
      "text/plain": [
       "1"
      ]
     },
     "execution_count": 6,
     "metadata": {},
     "output_type": "execute_result"
    }
   ],
   "source": [
    "# Accesing first element of array\n",
    "s[-0] # s[0] works too"
   ]
  },
  {
   "cell_type": "code",
   "execution_count": 14,
   "id": "d3a6fb29",
   "metadata": {},
   "outputs": [
    {
     "data": {
      "text/plain": [
       "[]"
      ]
     },
     "execution_count": 14,
     "metadata": {},
     "output_type": "execute_result"
    }
   ],
   "source": [
    "# Slicing Example\n",
    "s[-0:0] # This returns a null array since the stop index (0) is not included in the range while slicing"
   ]
  },
  {
   "cell_type": "markdown",
   "id": "eebf2529",
   "metadata": {},
   "source": [
    "<h3>Lists</h3>\n",
    "\n",
    "* Lists are mutable sequence objects of any data type\n",
    "* Usually used to store **HOMOGENEUOS** items/data\n",
    "\n",
    "<h4> Major Differences between Strings and Lists</h4>\n",
    "\n",
    "* Strings usually store only character type of data whereas lists can store data of any type (for eg, strings, tuples, intergers etc.)\n",
    "* Strings are **Immutable** i.e. can not be modified during the program execution whereas lists are **Mutable**.\n",
    "* Both strings and lists have methods exclusive to them\n"
   ]
  },
  {
   "cell_type": "code",
   "execution_count": 16,
   "id": "0dfa9be2",
   "metadata": {},
   "outputs": [
    {
     "data": {
      "text/plain": [
       "[1, 4, 6, 3, 10]"
      ]
     },
     "execution_count": 16,
     "metadata": {},
     "output_type": "execute_result"
    }
   ],
   "source": [
    "# Example List\n",
    "numbers = [1,4,6,3]\n",
    "# Appending/adding a number to the list\n",
    "numbers.append(10) # where append() is a method exclusive to lists which append the numbers to the list\n",
    "numbers"
   ]
  },
  {
   "cell_type": "code",
   "execution_count": 18,
   "id": "92a610b8",
   "metadata": {},
   "outputs": [
    {
     "data": {
      "text/plain": [
       "[1, 4, 6, 3, 10, 6, 5, 4, 1]"
      ]
     },
     "execution_count": 18,
     "metadata": {},
     "output_type": "execute_result"
    }
   ],
   "source": [
    "# Concatinating multiple lists\n",
    "numbers2 = [6,5,4,1]\n",
    "numbers_concat = numbers + numbers2 # '+' concatinates lists together\n",
    "numbers_concat # the concatinated list is now another seperate list"
   ]
  },
  {
   "cell_type": "code",
   "execution_count": 19,
   "id": "04d312d3",
   "metadata": {},
   "outputs": [
    {
     "data": {
      "text/plain": [
       "[10, 3, 6, 4, 1]"
      ]
     },
     "execution_count": 19,
     "metadata": {},
     "output_type": "execute_result"
    }
   ],
   "source": [
    "# VV IMPORTANT: list methods are 'In-Place Methods' -> The methods modify the original list (and it is possible since lists are \n",
    "# mutable objects)\n",
    "# Example: reversing the content order of the list\n",
    "numbers.reverse() # this will modify the original list 'numbers'\n",
    "numbers"
   ]
  },
  {
   "cell_type": "code",
   "execution_count": 22,
   "id": "2767565c",
   "metadata": {},
   "outputs": [
    {
     "name": "stdout",
     "output_type": "stream",
     "text": [
      "None\n"
     ]
    }
   ],
   "source": [
    "numbers_rev = numbers.reverse()\n",
    "print(numbers_rev) # if a new list is actively assigned to the reverse method, Python doesn't return any new list"
   ]
  },
  {
   "cell_type": "code",
   "execution_count": 24,
   "id": "0b659525",
   "metadata": {},
   "outputs": [
    {
     "data": {
      "text/plain": [
       "['Anjalika', 'Ashutosh', 'Mukherjee', 'Rini', 'Rony']"
      ]
     },
     "execution_count": 24,
     "metadata": {},
     "output_type": "execute_result"
    }
   ],
   "source": [
    "# SORTING OF LISTS\n",
    "names = [\"Ashutosh\",\"Mukherjee\",\"Rony\",\"Anjalika\",\"Rini\"]\n",
    "names.sort() # This sorts the names in the list in Alphabetical order\n",
    "# Since sort() is a list method, the original names list is modified\n",
    "names"
   ]
  },
  {
   "cell_type": "code",
   "execution_count": 25,
   "id": "1104ea57",
   "metadata": {},
   "outputs": [
    {
     "data": {
      "text/plain": [
       "['Anjalika', 'Ashutosh', 'Mukherjee', 'Rini', 'Rony']"
      ]
     },
     "execution_count": 25,
     "metadata": {},
     "output_type": "execute_result"
    }
   ],
   "source": [
    "# If we want to create an entirely new list which contains the sorted elements of the original list we use: sorted()\n",
    "names.reverse() # Reversing the alphabetical order of names in the original list\n",
    "names_sorted = sorted(names) #names_sorted is a new list which contains the sorted elements of the original list\n",
    "names_sorted"
   ]
  },
  {
   "cell_type": "code",
   "execution_count": 26,
   "id": "4fb3e4b7",
   "metadata": {},
   "outputs": [
    {
     "data": {
      "text/plain": [
       "['Rony', 'Rini', 'Mukherjee', 'Ashutosh', 'Anjalika']"
      ]
     },
     "execution_count": 26,
     "metadata": {},
     "output_type": "execute_result"
    }
   ],
   "source": [
    "names # and the original list stays the same (unsorted)"
   ]
  },
  {
   "cell_type": "code",
   "execution_count": 27,
   "id": "994cc46e",
   "metadata": {},
   "outputs": [
    {
     "data": {
      "text/plain": [
       "5"
      ]
     },
     "execution_count": 27,
     "metadata": {},
     "output_type": "execute_result"
    }
   ],
   "source": [
    "len(names) # Length of the list"
   ]
  },
  {
   "cell_type": "markdown",
   "id": "a6788c09",
   "metadata": {},
   "source": [
    "<h3> Tuples </h3>\n",
    "\n",
    "* Tuples are **immutable** sequences used to store **Heterogenous data**\n",
    "* Can be thought of as generalized data column vectors\n",
    "* Useful when we want a Python function to return multiple objects\n",
    "    * In that case, those multiple objects are wrapped up in a tuple (like a burrito) and the tuple is returned"
   ]
  },
  {
   "cell_type": "code",
   "execution_count": 28,
   "id": "d85c2c4f",
   "metadata": {},
   "outputs": [
    {
     "data": {
      "text/plain": [
       "5"
      ]
     },
     "execution_count": 28,
     "metadata": {},
     "output_type": "execute_result"
    }
   ],
   "source": [
    "# Constructing a Tuple\n",
    "T = (1,2,3,5,4)\n",
    "len(T) # Length of the tuple"
   ]
  },
  {
   "cell_type": "code",
   "execution_count": 29,
   "id": "dbf0f93b",
   "metadata": {},
   "outputs": [
    {
     "data": {
      "text/plain": [
       "(1, 2, 3, 5, 4, 7, 6, 9)"
      ]
     },
     "execution_count": 29,
     "metadata": {},
     "output_type": "execute_result"
    }
   ],
   "source": [
    "T + (7,6,9) # Concatinating 2 tuples"
   ]
  },
  {
   "cell_type": "code",
   "execution_count": 30,
   "id": "edef84c5",
   "metadata": {},
   "outputs": [
    {
     "data": {
      "text/plain": [
       "4"
      ]
     },
     "execution_count": 30,
     "metadata": {},
     "output_type": "execute_result"
    }
   ],
   "source": [
    "T[4] # 5th element of tuple"
   ]
  },
  {
   "cell_type": "code",
   "execution_count": 32,
   "id": "3a35c56f",
   "metadata": {},
   "outputs": [
    {
     "name": "stdout",
     "output_type": "stream",
     "text": [
      "(2.1, 3.8)\n"
     ]
    }
   ],
   "source": [
    "# Packing of Tuples\n",
    "x = 2.1\n",
    "y = 3.8\n",
    "# The above two defined objects (with floating data types) can be packed in a tuple representing something like Coordinates\n",
    "coordinate = (x,y) # coordinate is a tuple\n",
    "print(coordinate)"
   ]
  },
  {
   "cell_type": "code",
   "execution_count": 33,
   "id": "a7ebd312",
   "metadata": {},
   "outputs": [],
   "source": [
    "# Unpacking of Tuples\n",
    "# we now want to decompose the coordinate tuple\n",
    "(c1,c2) = coordinate"
   ]
  },
  {
   "cell_type": "code",
   "execution_count": 35,
   "id": "e0a2147a",
   "metadata": {},
   "outputs": [
    {
     "data": {
      "text/plain": [
       "2.1"
      ]
     },
     "execution_count": 35,
     "metadata": {},
     "output_type": "execute_result"
    }
   ],
   "source": [
    "c1 # x coordinate"
   ]
  },
  {
   "cell_type": "code",
   "execution_count": 36,
   "id": "067cb6b9",
   "metadata": {},
   "outputs": [
    {
     "data": {
      "text/plain": [
       "3.8"
      ]
     },
     "execution_count": 36,
     "metadata": {},
     "output_type": "execute_result"
    }
   ],
   "source": [
    "c2 # y coordinate"
   ]
  },
  {
   "cell_type": "code",
   "execution_count": 44,
   "id": "3adb53ee",
   "metadata": {},
   "outputs": [
    {
     "name": "stdout",
     "output_type": "stream",
     "text": [
      "1 1\n",
      "3 5\n",
      "9 5\n",
      "13 7\n",
      "5 13\n",
      "7 10\n"
     ]
    }
   ],
   "source": [
    "# Example: we have multiple coordinates\n",
    "# How are the multiple coordinates stored: A list containing multiple tuples and each tuple representing a 2D coordinate\n",
    "coord = [(0,0),(2,4),(8,4),(12,6),(4,12),(6,9)]\n",
    "# looping over coordinates\n",
    "for (i,j) in coord: # a tuple (i,j) is looping over all the tuples contained in the list 'coord'\n",
    "    print(i+1,j+1)"
   ]
  },
  {
   "cell_type": "code",
   "execution_count": 45,
   "id": "a02d8d3d",
   "metadata": {},
   "outputs": [
    {
     "data": {
      "text/plain": [
       "tuple"
      ]
     },
     "execution_count": 45,
     "metadata": {},
     "output_type": "execute_result"
    }
   ],
   "source": [
    "# Tuples having only one object\n",
    "c = (2,3) # two objects\n",
    "type(c)"
   ]
  },
  {
   "cell_type": "code",
   "execution_count": 46,
   "id": "a3e15529",
   "metadata": {},
   "outputs": [
    {
     "data": {
      "text/plain": [
       "int"
      ]
     },
     "execution_count": 46,
     "metadata": {},
     "output_type": "execute_result"
    }
   ],
   "source": [
    "c = (2) # one object\n",
    "type(c) # The object type shown here for c is now 'integer' which is not what we wanted"
   ]
  },
  {
   "cell_type": "code",
   "execution_count": 47,
   "id": "0417dc8f",
   "metadata": {},
   "outputs": [
    {
     "data": {
      "text/plain": [
       "tuple"
      ]
     },
     "execution_count": 47,
     "metadata": {},
     "output_type": "execute_result"
    }
   ],
   "source": [
    "c = (2,) # Correct syntax for a tuple having only one object\n",
    "type(c) # Now the object type of c is a tuple"
   ]
  },
  {
   "cell_type": "code",
   "execution_count": 49,
   "id": "b6a9e227",
   "metadata": {},
   "outputs": [
    {
     "ename": "AttributeError",
     "evalue": "'tuple' object has no attribute 'append'",
     "output_type": "error",
     "traceback": [
      "\u001b[1;31m---------------------------------------------------------------------------\u001b[0m",
      "\u001b[1;31mAttributeError\u001b[0m                            Traceback (most recent call last)",
      "\u001b[1;32m~\\AppData\\Local\\Temp/ipykernel_15948/2941493561.py\u001b[0m in \u001b[0;36m<module>\u001b[1;34m\u001b[0m\n\u001b[0;32m      1\u001b[0m \u001b[1;31m# If we wanted to add another element to the tuple\u001b[0m\u001b[1;33m\u001b[0m\u001b[1;33m\u001b[0m\u001b[1;33m\u001b[0m\u001b[0m\n\u001b[1;32m----> 2\u001b[1;33m \u001b[0mc\u001b[0m\u001b[1;33m.\u001b[0m\u001b[0mappend\u001b[0m\u001b[1;33m(\u001b[0m\u001b[1;36m4\u001b[0m\u001b[1;33m)\u001b[0m \u001b[1;31m# won't work and shows error\u001b[0m\u001b[1;33m\u001b[0m\u001b[1;33m\u001b[0m\u001b[0m\n\u001b[0m\u001b[0;32m      3\u001b[0m \u001b[1;31m# Tuples (unlike lists) are immutable and can't be modified once they have been created\u001b[0m\u001b[1;33m\u001b[0m\u001b[1;33m\u001b[0m\u001b[1;33m\u001b[0m\u001b[0m\n",
      "\u001b[1;31mAttributeError\u001b[0m: 'tuple' object has no attribute 'append'"
     ]
    }
   ],
   "source": [
    "# If we wanted to add another element to the tuple\n",
    "c.append(4) # won't work and shows error\n",
    "# Tuples (unlike lists) are immutable and can't be modified once they have been created"
   ]
  },
  {
   "cell_type": "code",
   "execution_count": 51,
   "id": "60dfd1ef",
   "metadata": {},
   "outputs": [
    {
     "data": {
      "text/plain": [
       "(2, 4)"
      ]
     },
     "execution_count": 51,
     "metadata": {},
     "output_type": "execute_result"
    }
   ],
   "source": [
    "# Alternative: create a new concatinating tuple\n",
    "d = (4,)\n",
    "e = c + d\n",
    "e # e is a new tuple containing the additional element"
   ]
  },
  {
   "cell_type": "code",
   "execution_count": 55,
   "id": "f79d82a4",
   "metadata": {},
   "outputs": [
    {
     "data": {
      "text/plain": [
       "1"
      ]
     },
     "execution_count": 55,
     "metadata": {},
     "output_type": "execute_result"
    }
   ],
   "source": [
    "# If we want to count the number of times 4 appears in the tuple e\n",
    "e.count(4)"
   ]
  },
  {
   "cell_type": "code",
   "execution_count": 57,
   "id": "2c12fa87",
   "metadata": {},
   "outputs": [
    {
     "data": {
      "text/plain": [
       "6"
      ]
     },
     "execution_count": 57,
     "metadata": {},
     "output_type": "execute_result"
    }
   ],
   "source": [
    "# If we want to add all the elements of tuple e and get the sum\n",
    "sum(e)"
   ]
  },
  {
   "cell_type": "markdown",
   "id": "4f274b3a",
   "metadata": {},
   "source": [
    "<h3> Range Objects </h3>\n",
    "\n",
    "* **Immutable** sequences of **integers**.\n",
    "* Commonly used in `for` loops\n",
    "* Input-> Stopping value **(not index)**\n",
    "* Ranges always stop just before the stopping value i.e. the stopping value is not included in the range\n"
   ]
  },
  {
   "cell_type": "code",
   "execution_count": 58,
   "id": "be701d3e",
   "metadata": {},
   "outputs": [
    {
     "data": {
      "text/plain": [
       "range(0, 5)"
      ]
     },
     "execution_count": 58,
     "metadata": {},
     "output_type": "execute_result"
    }
   ],
   "source": [
    "range(5) # Stopping Value: 5\n",
    "# range(5) can be written as range(0,5) also\n",
    "# The range will be: 0,1,2,3,4"
   ]
  },
  {
   "cell_type": "code",
   "execution_count": 60,
   "id": "70535863",
   "metadata": {},
   "outputs": [
    {
     "data": {
      "text/plain": [
       "[0, 1, 2, 3, 4]"
      ]
     },
     "execution_count": 60,
     "metadata": {},
     "output_type": "execute_result"
    }
   ],
   "source": [
    "list(range(0,5)) # The range is converted into a list"
   ]
  },
  {
   "cell_type": "code",
   "execution_count": 61,
   "id": "e6de5c9f",
   "metadata": {},
   "outputs": [
    {
     "data": {
      "text/plain": [
       "[1, 2, 3, 4, 5]"
      ]
     },
     "execution_count": 61,
     "metadata": {},
     "output_type": "execute_result"
    }
   ],
   "source": [
    "list(range(1,6)) # Expected output: [1,2,3,4,5], 6 not included"
   ]
  },
  {
   "cell_type": "code",
   "execution_count": 63,
   "id": "9021285b",
   "metadata": {},
   "outputs": [
    {
     "data": {
      "text/plain": [
       "[1, 3, 5, 7, 9]"
      ]
     },
     "execution_count": 63,
     "metadata": {},
     "output_type": "execute_result"
    }
   ],
   "source": [
    "# Step Size of range = 2\n",
    "list(range(0,10,2)) # expected output: [0,2,4,6,8]\n",
    "list(range(1,10,2)) # expected output: [1,3,5,7,9]"
   ]
  },
  {
   "cell_type": "markdown",
   "id": "7db0400d",
   "metadata": {},
   "source": [
    "<h4> Using lists or ranges in for loops? </h4>\n",
    "\n",
    "Both can be used but using ranges is much more computationally beneficial. To store a range object, python stores only 3 values:\n",
    "        \n",
    "* Start Value\n",
    "* Stop Value\n",
    "* Step Size\n",
    "\n",
    "But for lists, Python has to store all the indices of the list to access the elements of the list.\n",
    "\n",
    "This difference becomes relevant and tangiblw when we are looping over many elements for eg. 10 million elements. In such case, using ranges helps us in saving a lot of memory."
   ]
  },
  {
   "cell_type": "markdown",
   "id": "0c312ed0",
   "metadata": {},
   "source": [
    "<h3> Strings </h3>\n",
    "\n",
    "* Immutable sequence objects for storing only character data types\n",
    "* ''and \"\"  both work"
   ]
  },
  {
   "cell_type": "code",
   "execution_count": 65,
   "id": "79cf6302",
   "metadata": {},
   "outputs": [
    {
     "data": {
      "text/plain": [
       "'Python'"
      ]
     },
     "execution_count": 65,
     "metadata": {},
     "output_type": "execute_result"
    }
   ],
   "source": [
    "st = 'Python'\n",
    "st"
   ]
  },
  {
   "cell_type": "code",
   "execution_count": 66,
   "id": "4ff422e6",
   "metadata": {},
   "outputs": [
    {
     "data": {
      "text/plain": [
       "'y'"
      ]
     },
     "execution_count": 66,
     "metadata": {},
     "output_type": "execute_result"
    }
   ],
   "source": [
    "# Accessing the 2nd element of string\n",
    "st[1]"
   ]
  },
  {
   "cell_type": "code",
   "execution_count": 67,
   "id": "02a46a14",
   "metadata": {},
   "outputs": [
    {
     "data": {
      "text/plain": [
       "'n'"
      ]
     },
     "execution_count": 67,
     "metadata": {},
     "output_type": "execute_result"
    }
   ],
   "source": [
    "# Accessing the last element of string\n",
    "st[-1]"
   ]
  },
  {
   "cell_type": "code",
   "execution_count": 68,
   "id": "9d58ee04",
   "metadata": {},
   "outputs": [
    {
     "data": {
      "text/plain": [
       "'Pyt'"
      ]
     },
     "execution_count": 68,
     "metadata": {},
     "output_type": "execute_result"
    }
   ],
   "source": [
    "# Accessing the first 3 elements of string\n",
    "st[0:3]"
   ]
  },
  {
   "cell_type": "code",
   "execution_count": 69,
   "id": "f767a36c",
   "metadata": {},
   "outputs": [
    {
     "data": {
      "text/plain": [
       "'hon'"
      ]
     },
     "execution_count": 69,
     "metadata": {},
     "output_type": "execute_result"
    }
   ],
   "source": [
    "# Accessing the last 3 elements of string\n",
    "st[-3:]"
   ]
  },
  {
   "cell_type": "code",
   "execution_count": 70,
   "id": "a060989b",
   "metadata": {},
   "outputs": [
    {
     "data": {
      "text/plain": [
       "'Pyt'"
      ]
     },
     "execution_count": 70,
     "metadata": {},
     "output_type": "execute_result"
    }
   ],
   "source": [
    "# Slicing the string\n",
    "st1 = st[0:3]\n",
    "st1"
   ]
  },
  {
   "cell_type": "markdown",
   "id": "e5f0d84c",
   "metadata": {},
   "source": [
    "<h3> Polymorphism </h3>\n",
    "\n",
    "Definition: ***What an operator does depends on the object it is being applied to***.\n",
    "\n",
    "For eg, in mathematics, multiplication operator when applied on scalars vs when applied on matrices behaves very differently. Similarlym in OOP, the oeprators/methods/function behaviors depend on the object they are being applied on.\n",
    "\n",
    "<h4> Polymorphism in Strings </h4>\n",
    "\n",
    "The `+` operator when applied on integers or floating point numbers just adds them up, but it does the operation of **concatination** when it is applied on multiple strings."
   ]
  },
  {
   "cell_type": "code",
   "execution_count": 72,
   "id": "afffa8f6",
   "metadata": {},
   "outputs": [
    {
     "data": {
      "text/plain": [
       "'ILovePython'"
      ]
     },
     "execution_count": 72,
     "metadata": {},
     "output_type": "execute_result"
    }
   ],
   "source": [
    "# Example\n",
    "str1 = 'I'\n",
    "str2 = 'Love'\n",
    "str3 = 'Python'\n",
    "str_con = str1 + str2 + str3\n",
    "str_con"
   ]
  },
  {
   "cell_type": "code",
   "execution_count": 75,
   "id": "46389cf7",
   "metadata": {},
   "outputs": [
    {
     "data": {
      "text/plain": [
       "'TrippyTrippyTrippy'"
      ]
     },
     "execution_count": 75,
     "metadata": {},
     "output_type": "execute_result"
    }
   ],
   "source": [
    "# Example\n",
    "str4 = 'Trippy'\n",
    "str_con = 3*str4 # This is equivalent to saying: str4 + str4 + str4\n",
    "str_con # Expected Output: TrippyTrippyTrippy"
   ]
  },
  {
   "cell_type": "code",
   "execution_count": 1,
   "id": "f54e3417",
   "metadata": {},
   "outputs": [
    {
     "ename": "TypeError",
     "evalue": "can only concatenate str (not \"int\") to str",
     "output_type": "error",
     "traceback": [
      "\u001b[1;31m---------------------------------------------------------------------------\u001b[0m",
      "\u001b[1;31mTypeError\u001b[0m                                 Traceback (most recent call last)",
      "\u001b[1;32m~\\AppData\\Local\\Temp/ipykernel_12836/4134918255.py\u001b[0m in \u001b[0;36m<module>\u001b[1;34m\u001b[0m\n\u001b[0;32m      2\u001b[0m \u001b[1;31m# Example:\u001b[0m\u001b[1;33m\u001b[0m\u001b[1;33m\u001b[0m\u001b[1;33m\u001b[0m\u001b[0m\n\u001b[0;32m      3\u001b[0m \u001b[0mans\u001b[0m \u001b[1;33m=\u001b[0m \u001b[1;36m8\u001b[0m\u001b[1;33m\u001b[0m\u001b[1;33m\u001b[0m\u001b[0m\n\u001b[1;32m----> 4\u001b[1;33m \u001b[1;34m'The result is'\u001b[0m \u001b[1;33m+\u001b[0m \u001b[0mans\u001b[0m\u001b[1;33m\u001b[0m\u001b[1;33m\u001b[0m\u001b[0m\n\u001b[0m",
      "\u001b[1;31mTypeError\u001b[0m: can only concatenate str (not \"int\") to str"
     ]
    }
   ],
   "source": [
    "# Concatinating a string and a integer\n",
    "# Example:\n",
    "ans = 8\n",
    "'The result is' + ans # This doesn't work since ans is an integer and integers can't be concatenated to strings\n",
    "# The above command works in Java though"
   ]
  },
  {
   "cell_type": "code",
   "execution_count": 4,
   "id": "742a5587",
   "metadata": {},
   "outputs": [
    {
     "data": {
      "text/plain": [
       "'The result is: 8'"
      ]
     },
     "execution_count": 4,
     "metadata": {},
     "output_type": "execute_result"
    }
   ],
   "source": [
    "# We have to explicitly convert the integer into a string and then concatinate it\n",
    "'The result is: ' + str(ans)"
   ]
  },
  {
   "cell_type": "code",
   "execution_count": 5,
   "id": "fc60669f",
   "metadata": {},
   "outputs": [
    {
     "data": {
      "text/plain": [
       "['__add__',\n",
       " '__class__',\n",
       " '__contains__',\n",
       " '__delattr__',\n",
       " '__dir__',\n",
       " '__doc__',\n",
       " '__eq__',\n",
       " '__format__',\n",
       " '__ge__',\n",
       " '__getattribute__',\n",
       " '__getitem__',\n",
       " '__getnewargs__',\n",
       " '__gt__',\n",
       " '__hash__',\n",
       " '__init__',\n",
       " '__init_subclass__',\n",
       " '__iter__',\n",
       " '__le__',\n",
       " '__len__',\n",
       " '__lt__',\n",
       " '__mod__',\n",
       " '__mul__',\n",
       " '__ne__',\n",
       " '__new__',\n",
       " '__reduce__',\n",
       " '__reduce_ex__',\n",
       " '__repr__',\n",
       " '__rmod__',\n",
       " '__rmul__',\n",
       " '__setattr__',\n",
       " '__sizeof__',\n",
       " '__str__',\n",
       " '__subclasshook__',\n",
       " 'capitalize',\n",
       " 'casefold',\n",
       " 'center',\n",
       " 'count',\n",
       " 'encode',\n",
       " 'endswith',\n",
       " 'expandtabs',\n",
       " 'find',\n",
       " 'format',\n",
       " 'format_map',\n",
       " 'index',\n",
       " 'isalnum',\n",
       " 'isalpha',\n",
       " 'isascii',\n",
       " 'isdecimal',\n",
       " 'isdigit',\n",
       " 'isidentifier',\n",
       " 'islower',\n",
       " 'isnumeric',\n",
       " 'isprintable',\n",
       " 'isspace',\n",
       " 'istitle',\n",
       " 'isupper',\n",
       " 'join',\n",
       " 'ljust',\n",
       " 'lower',\n",
       " 'lstrip',\n",
       " 'maketrans',\n",
       " 'partition',\n",
       " 'replace',\n",
       " 'rfind',\n",
       " 'rindex',\n",
       " 'rjust',\n",
       " 'rpartition',\n",
       " 'rsplit',\n",
       " 'rstrip',\n",
       " 'split',\n",
       " 'splitlines',\n",
       " 'startswith',\n",
       " 'strip',\n",
       " 'swapcase',\n",
       " 'title',\n",
       " 'translate',\n",
       " 'upper',\n",
       " 'zfill']"
      ]
     },
     "execution_count": 5,
     "metadata": {},
     "output_type": "execute_result"
    }
   ],
   "source": [
    "# Attributes available for strings\n",
    "dir(str)"
   ]
  },
  {
   "cell_type": "code",
   "execution_count": 6,
   "id": "178b9117",
   "metadata": {},
   "outputs": [
    {
     "name": "stdout",
     "output_type": "stream",
     "text": [
      "Help on method_descriptor:\n",
      "\n",
      "replace(self, old, new, count=-1, /)\n",
      "    Return a copy with all occurrences of substring old replaced by new.\n",
      "    \n",
      "      count\n",
      "        Maximum number of occurrences to replace.\n",
      "        -1 (the default value) means replace all occurrences.\n",
      "    \n",
      "    If the optional argument count is given, only the first count occurrences are\n",
      "    replaced.\n",
      "\n"
     ]
    }
   ],
   "source": [
    "# Seeking info on a particular method for strings\n",
    "help(str.replace) # Gives a brief description of the method\n",
    "# str.replace? pr info(str.replace) will also work"
   ]
  },
  {
   "cell_type": "code",
   "execution_count": 8,
   "id": "3365060d",
   "metadata": {},
   "outputs": [
    {
     "data": {
      "text/plain": [
       "'Ashutosh Mukherjee'"
      ]
     },
     "execution_count": 8,
     "metadata": {},
     "output_type": "execute_result"
    }
   ],
   "source": [
    "# Example\n",
    "name = 'Ashutosh Mukherjee'\n",
    "# Replacing the capital M with a small m\n",
    "new_name = name.replace('M','m') # Since strings are immutable objects, Python returns a completely new string with the\n",
    "# Ms replaced\n",
    "name # The original string will still stay the same"
   ]
  },
  {
   "cell_type": "code",
   "execution_count": 9,
   "id": "a6240ace",
   "metadata": {},
   "outputs": [
    {
     "data": {
      "text/plain": [
       "'Ashutosh mukherjee'"
      ]
     },
     "execution_count": 9,
     "metadata": {},
     "output_type": "execute_result"
    }
   ],
   "source": [
    "new_name # The new string will have the replacement"
   ]
  },
  {
   "cell_type": "code",
   "execution_count": 10,
   "id": "b14ddfbe",
   "metadata": {},
   "outputs": [
    {
     "data": {
      "text/plain": [
       "['Ashutosh', 'Mukherjee']"
      ]
     },
     "execution_count": 10,
     "metadata": {},
     "output_type": "execute_result"
    }
   ],
   "source": [
    "# Splitting the strings -> Always require a character about which the splitting is to be done\n",
    "# We split the first name and the last name\n",
    "names = name.split(' ') # Split the names about the space between the first and last names\n",
    "names # Split method returns a list woth strings as its elements"
   ]
  },
  {
   "cell_type": "code",
   "execution_count": 11,
   "id": "56bd4c07",
   "metadata": {},
   "outputs": [
    {
     "data": {
      "text/plain": [
       "list"
      ]
     },
     "execution_count": 11,
     "metadata": {},
     "output_type": "execute_result"
    }
   ],
   "source": [
    "type(names) # Object Type\n",
    "# The split strings are now stored in a seperate list 'names'"
   ]
  },
  {
   "cell_type": "code",
   "execution_count": 12,
   "id": "e760cfeb",
   "metadata": {},
   "outputs": [
    {
     "data": {
      "text/plain": [
       "'Mukherjee'"
      ]
     },
     "execution_count": 12,
     "metadata": {},
     "output_type": "execute_result"
    }
   ],
   "source": [
    "names[1] # Mukherjee"
   ]
  },
  {
   "cell_type": "code",
   "execution_count": 13,
   "id": "03210c14",
   "metadata": {},
   "outputs": [
    {
     "data": {
      "text/plain": [
       "'Ashutosh'"
      ]
     },
     "execution_count": 13,
     "metadata": {},
     "output_type": "execute_result"
    }
   ],
   "source": [
    "names[0] # Ashutosh"
   ]
  },
  {
   "cell_type": "code",
   "execution_count": 14,
   "id": "9ef01c17",
   "metadata": {},
   "outputs": [
    {
     "data": {
      "text/plain": [
       "str"
      ]
     },
     "execution_count": 14,
     "metadata": {},
     "output_type": "execute_result"
    }
   ],
   "source": [
    "type(names[0])"
   ]
  },
  {
   "cell_type": "code",
   "execution_count": 24,
   "id": "e28ab51d",
   "metadata": {},
   "outputs": [],
   "source": [
    "# Turning vorname into all uppercase\n",
    "vorname = names[0].upper()\n",
    "\n",
    "\n",
    "# Turning nachname into all lowercase\n",
    "nachname = names[1].lower()\n",
    "\n",
    "# Remember that strings are immutable, Python will return new strings when we upper() or lower() them"
   ]
  },
  {
   "cell_type": "code",
   "execution_count": 25,
   "id": "48637e74",
   "metadata": {},
   "outputs": [
    {
     "data": {
      "text/plain": [
       "'ASHUTOSH'"
      ]
     },
     "execution_count": 25,
     "metadata": {},
     "output_type": "execute_result"
    }
   ],
   "source": [
    "vorname"
   ]
  },
  {
   "cell_type": "code",
   "execution_count": 26,
   "id": "2eed257d",
   "metadata": {},
   "outputs": [
    {
     "data": {
      "text/plain": [
       "'mukherjee'"
      ]
     },
     "execution_count": 26,
     "metadata": {},
     "output_type": "execute_result"
    }
   ],
   "source": [
    "nachname"
   ]
  },
  {
   "cell_type": "code",
   "execution_count": 27,
   "id": "0c1668ef",
   "metadata": {},
   "outputs": [
    {
     "data": {
      "text/plain": [
       "'0123456789'"
      ]
     },
     "execution_count": 27,
     "metadata": {},
     "output_type": "execute_result"
    }
   ],
   "source": [
    "# Returning 0 to 10 in a single string\n",
    "# Desired output -> '0123456789'\n",
    "'0' + '1' + '2' + '3' + '4' + '5' + '6' + '7' + '8' + '9' # This command works fine"
   ]
  },
  {
   "cell_type": "code",
   "execution_count": 29,
   "id": "ce6f1deb",
   "metadata": {},
   "outputs": [
    {
     "data": {
      "text/plain": [
       "'range(0, 10)'"
      ]
     },
     "execution_count": 29,
     "metadata": {},
     "output_type": "execute_result"
    }
   ],
   "source": [
    "str(range(0,10)) # This doesn't give the desired output since range(0,10) is not actually a list but just a range"
   ]
  },
  {
   "cell_type": "code",
   "execution_count": 31,
   "id": "2c27367b",
   "metadata": {},
   "outputs": [
    {
     "data": {
      "text/plain": [
       "'0123456789'"
      ]
     },
     "execution_count": 31,
     "metadata": {},
     "output_type": "execute_result"
    }
   ],
   "source": [
    "import string # Using string library/module\n",
    "string.digits # This prints out the digits from 0 to 9"
   ]
  },
  {
   "cell_type": "code",
   "execution_count": 33,
   "id": "85c30de4",
   "metadata": {},
   "outputs": [
    {
     "name": "stdout",
     "output_type": "stream",
     "text": [
      "Help on module string:\n",
      "\n",
      "NAME\n",
      "    string - A collection of string constants.\n",
      "\n",
      "MODULE REFERENCE\n",
      "    https://docs.python.org/3.8/library/string\n",
      "    \n",
      "    The following documentation is automatically generated from the Python\n",
      "    source files.  It may be incomplete, incorrect or include features that\n",
      "    are considered implementation detail and may vary between Python\n",
      "    implementations.  When in doubt, consult the module reference at the\n",
      "    location listed above.\n",
      "\n",
      "DESCRIPTION\n",
      "    Public module variables:\n",
      "    \n",
      "    whitespace -- a string containing all ASCII whitespace\n",
      "    ascii_lowercase -- a string containing all ASCII lowercase letters\n",
      "    ascii_uppercase -- a string containing all ASCII uppercase letters\n",
      "    ascii_letters -- a string containing all ASCII letters\n",
      "    digits -- a string containing all ASCII decimal digits\n",
      "    hexdigits -- a string containing all ASCII hexadecimal digits\n",
      "    octdigits -- a string containing all ASCII octal digits\n",
      "    punctuation -- a string containing all ASCII punctuation characters\n",
      "    printable -- a string containing all ASCII characters considered printable\n",
      "\n",
      "CLASSES\n",
      "    builtins.object\n",
      "        Formatter\n",
      "        Template\n",
      "    \n",
      "    class Formatter(builtins.object)\n",
      "     |  Methods defined here:\n",
      "     |  \n",
      "     |  check_unused_args(self, used_args, args, kwargs)\n",
      "     |  \n",
      "     |  convert_field(self, value, conversion)\n",
      "     |  \n",
      "     |  format(self, format_string, /, *args, **kwargs)\n",
      "     |  \n",
      "     |  format_field(self, value, format_spec)\n",
      "     |  \n",
      "     |  get_field(self, field_name, args, kwargs)\n",
      "     |      # given a field_name, find the object it references.\n",
      "     |      #  field_name:   the field being looked up, e.g. \"0.name\"\n",
      "     |      #                 or \"lookup[3]\"\n",
      "     |      #  used_args:    a set of which args have been used\n",
      "     |      #  args, kwargs: as passed in to vformat\n",
      "     |  \n",
      "     |  get_value(self, key, args, kwargs)\n",
      "     |  \n",
      "     |  parse(self, format_string)\n",
      "     |      # returns an iterable that contains tuples of the form:\n",
      "     |      # (literal_text, field_name, format_spec, conversion)\n",
      "     |      # literal_text can be zero length\n",
      "     |      # field_name can be None, in which case there's no\n",
      "     |      #  object to format and output\n",
      "     |      # if field_name is not None, it is looked up, formatted\n",
      "     |      #  with format_spec and conversion and then used\n",
      "     |  \n",
      "     |  vformat(self, format_string, args, kwargs)\n",
      "     |  \n",
      "     |  ----------------------------------------------------------------------\n",
      "     |  Data descriptors defined here:\n",
      "     |  \n",
      "     |  __dict__\n",
      "     |      dictionary for instance variables (if defined)\n",
      "     |  \n",
      "     |  __weakref__\n",
      "     |      list of weak references to the object (if defined)\n",
      "    \n",
      "    class Template(builtins.object)\n",
      "     |  Template(template)\n",
      "     |  \n",
      "     |  A string class for supporting $-substitutions.\n",
      "     |  \n",
      "     |  Methods defined here:\n",
      "     |  \n",
      "     |  __init__(self, template)\n",
      "     |      Initialize self.  See help(type(self)) for accurate signature.\n",
      "     |  \n",
      "     |  safe_substitute(self, mapping={}, /, **kws)\n",
      "     |  \n",
      "     |  substitute(self, mapping={}, /, **kws)\n",
      "     |  \n",
      "     |  ----------------------------------------------------------------------\n",
      "     |  Data descriptors defined here:\n",
      "     |  \n",
      "     |  __dict__\n",
      "     |      dictionary for instance variables (if defined)\n",
      "     |  \n",
      "     |  __weakref__\n",
      "     |      list of weak references to the object (if defined)\n",
      "     |  \n",
      "     |  ----------------------------------------------------------------------\n",
      "     |  Data and other attributes defined here:\n",
      "     |  \n",
      "     |  braceidpattern = None\n",
      "     |  \n",
      "     |  delimiter = '$'\n",
      "     |  \n",
      "     |  flags = re.IGNORECASE\n",
      "     |  \n",
      "     |  idpattern = '(?a:[_a-z][_a-z0-9]*)'\n",
      "     |  \n",
      "     |  pattern = re.compile('\\n    \\\\$(?:\\n      (?P<escaped>\\\\$)...ced>(?a:[...\n",
      "\n",
      "FUNCTIONS\n",
      "    capwords(s, sep=None)\n",
      "        capwords(s [,sep]) -> string\n",
      "        \n",
      "        Split the argument into words using split, capitalize each\n",
      "        word using capitalize, and join the capitalized words using\n",
      "        join.  If the optional second argument sep is absent or None,\n",
      "        runs of whitespace characters are replaced by a single space\n",
      "        and leading and trailing whitespace are removed, otherwise\n",
      "        sep is used to split and join the words.\n",
      "\n",
      "DATA\n",
      "    __all__ = ['ascii_letters', 'ascii_lowercase', 'ascii_uppercase', 'cap...\n",
      "    ascii_letters = 'abcdefghijklmnopqrstuvwxyzABCDEFGHIJKLMNOPQRSTUVWXYZ'\n",
      "    ascii_lowercase = 'abcdefghijklmnopqrstuvwxyz'\n",
      "    ascii_uppercase = 'ABCDEFGHIJKLMNOPQRSTUVWXYZ'\n",
      "    digits = '0123456789'\n",
      "    hexdigits = '0123456789abcdefABCDEF'\n",
      "    octdigits = '01234567'\n",
      "    printable = '0123456789abcdefghijklmnopqrstuvwxyzABCDEFGHIJKLMNOPQRSTU...\n",
      "    punctuation = '!\"#$%&\\'()*+,-./:;<=>?@[\\\\]^_`{|}~'\n",
      "    whitespace = ' \\t\\n\\r\\x0b\\x0c'\n",
      "\n",
      "FILE\n",
      "    c:\\users\\hp\\anaconda3\\envs\\cie21\\lib\\string.py\n",
      "\n",
      "\n"
     ]
    }
   ],
   "source": [
    "help(string) # Info on the string module"
   ]
  },
  {
   "cell_type": "code",
   "execution_count": 38,
   "id": "3b7c2dc8",
   "metadata": {},
   "outputs": [
    {
     "data": {
      "text/plain": [
       "True"
      ]
     },
     "execution_count": 38,
     "metadata": {},
     "output_type": "execute_result"
    }
   ],
   "source": [
    "# Finding whether a string contains only digits\n",
    "x = '125,000'\n",
    "x.isdigit() \n",
    "# isdigit returns true if the all the characters in the string are digits\n",
    "# For this case it returns False since x contains a ','\n",
    "# if x was 125000, then the method would return true"
   ]
  },
  {
   "cell_type": "code",
   "execution_count": 37,
   "id": "edeb1dc6",
   "metadata": {},
   "outputs": [
    {
     "name": "stdout",
     "output_type": "stream",
     "text": [
      "Help on method_descriptor:\n",
      "\n",
      "isdigit(self, /)\n",
      "    Return True if the string is a digit string, False otherwise.\n",
      "    \n",
      "    A string is a digit string if all characters in the string are digits and there\n",
      "    is at least one character in the string.\n",
      "\n"
     ]
    }
   ],
   "source": [
    "help(str.isdigit)"
   ]
  },
  {
   "cell_type": "markdown",
   "id": "a50e35d8",
   "metadata": {},
   "source": [
    "<h3>Sets</h3>\n",
    "\n",
    "Sets are **unordered sets of distinct hashable objects**.\n",
    "\n",
    "**Crux**: *Sets can be used for immutable objects (like strings and tuples) but not for mutalble objects (like lists and dictionaries)*\n",
    "\n",
    "<h4>Types of Sets</h4>\n",
    "\n",
    "* Sets: is mutable once created\n",
    "* Frozen Sets: is immutable once created\n",
    "\n",
    "Since sets are unordered collection of objects, the elements inside a set can not be indexed i.e. **the objects inside the sets have no location**.\n",
    "\n",
    "**Objects inside a set can not be duplicated i.e. all objects inside a set are distinct and unique.**\n",
    "\n",
    "Traditional mathematical set operations can be performed using sets in Python.\n"
   ]
  },
  {
   "cell_type": "code",
   "execution_count": 39,
   "id": "a9a96444",
   "metadata": {},
   "outputs": [],
   "source": [
    "# Creating an empty set\n",
    "ids = set()"
   ]
  },
  {
   "cell_type": "code",
   "execution_count": 41,
   "id": "ee84569f",
   "metadata": {},
   "outputs": [
    {
     "data": {
      "text/plain": [
       "8"
      ]
     },
     "execution_count": 41,
     "metadata": {},
     "output_type": "execute_result"
    }
   ],
   "source": [
    "# Initial Set\n",
    "ids = set([1,2,3,4,6,7,8,9]) # These are the object IDs (important)\n",
    "# length of set\n",
    "len(ids)"
   ]
  },
  {
   "cell_type": "code",
   "execution_count": 43,
   "id": "6bb91077",
   "metadata": {},
   "outputs": [
    {
     "data": {
      "text/plain": [
       "{1, 2, 3, 4, 6, 7, 8, 9, 10}"
      ]
     },
     "execution_count": 43,
     "metadata": {},
     "output_type": "execute_result"
    }
   ],
   "source": [
    "# Adding another object (its ID) to the set\n",
    "ids.add(10) # an object with ID 10 is added to the set\n",
    "ids"
   ]
  },
  {
   "cell_type": "code",
   "execution_count": 44,
   "id": "799a5a11",
   "metadata": {},
   "outputs": [
    {
     "data": {
      "text/plain": [
       "{1, 2, 3, 4, 6, 7, 8, 9, 10}"
      ]
     },
     "execution_count": 44,
     "metadata": {},
     "output_type": "execute_result"
    }
   ],
   "source": [
    "ids.add(2) # adding an object with the same number (2)\n",
    "ids # nothing happens or changes since sets can't have duplicate objects"
   ]
  },
  {
   "cell_type": "code",
   "execution_count": 45,
   "id": "a7deffe8",
   "metadata": {},
   "outputs": [
    {
     "data": {
      "text/plain": [
       "1"
      ]
     },
     "execution_count": 45,
     "metadata": {},
     "output_type": "execute_result"
    }
   ],
   "source": [
    "# Removing objects from the set\n",
    "ids.pop() # a random object is removed from the set"
   ]
  },
  {
   "cell_type": "code",
   "execution_count": 46,
   "id": "b82a687d",
   "metadata": {},
   "outputs": [
    {
     "data": {
      "text/plain": [
       "2"
      ]
     },
     "execution_count": 46,
     "metadata": {},
     "output_type": "execute_result"
    }
   ],
   "source": [
    "ids.pop() # a random object is removed from the set"
   ]
  },
  {
   "cell_type": "code",
   "execution_count": 47,
   "id": "573553f5",
   "metadata": {},
   "outputs": [
    {
     "data": {
      "text/plain": [
       "3"
      ]
     },
     "execution_count": 47,
     "metadata": {},
     "output_type": "execute_result"
    }
   ],
   "source": [
    "ids.pop() # a random object is removed from the set"
   ]
  },
  {
   "cell_type": "code",
   "execution_count": 48,
   "id": "8e8d61e2",
   "metadata": {},
   "outputs": [
    {
     "data": {
      "text/plain": [
       "{4, 6, 7, 8, 9, 10}"
      ]
     },
     "execution_count": 48,
     "metadata": {},
     "output_type": "execute_result"
    }
   ],
   "source": [
    "ids # Set after removing the objects"
   ]
  },
  {
   "cell_type": "code",
   "execution_count": 50,
   "id": "9f4b9206",
   "metadata": {},
   "outputs": [
    {
     "data": {
      "text/plain": [
       "{0, 1, 2, 3, 4, 5, 6, 7, 8, 9}"
      ]
     },
     "execution_count": 50,
     "metadata": {},
     "output_type": "execute_result"
    }
   ],
   "source": [
    "# Example\n",
    "ids = set(range(0,10)) # the set has objects with numbers from 0 to 9 (10 not included)\n",
    "ids"
   ]
  },
  {
   "cell_type": "code",
   "execution_count": 53,
   "id": "705e1c95",
   "metadata": {},
   "outputs": [
    {
     "data": {
      "text/plain": [
       "{1, 3, 5, 6, 7}"
      ]
     },
     "execution_count": 53,
     "metadata": {},
     "output_type": "execute_result"
    }
   ],
   "source": [
    "# Out of this set, some objects are males and some are female\n",
    "# The male set\n",
    "males = set([1,3,5,6,7]) # Objects with numbers 1,3,5,6,7 are males\n",
    "males"
   ]
  },
  {
   "cell_type": "code",
   "execution_count": 54,
   "id": "3919e331",
   "metadata": {},
   "outputs": [
    {
     "data": {
      "text/plain": [
       "{0, 2, 4, 8, 9}"
      ]
     },
     "execution_count": 54,
     "metadata": {},
     "output_type": "execute_result"
    }
   ],
   "source": [
    "# The female set\n",
    "females = ids - males\n",
    "females"
   ]
  },
  {
   "cell_type": "code",
   "execution_count": 55,
   "id": "9153d892",
   "metadata": {},
   "outputs": [
    {
     "data": {
      "text/plain": [
       "set"
      ]
     },
     "execution_count": 55,
     "metadata": {},
     "output_type": "execute_result"
    }
   ],
   "source": [
    "type(females)"
   ]
  },
  {
   "cell_type": "code",
   "execution_count": 56,
   "id": "d583d8d6",
   "metadata": {},
   "outputs": [
    {
     "data": {
      "text/plain": [
       "{0, 1, 2, 3, 4, 5, 6, 7, 8, 9}"
      ]
     },
     "execution_count": 56,
     "metadata": {},
     "output_type": "execute_result"
    }
   ],
   "source": [
    "# Set operations\n",
    "# Union operation\n",
    "everyone = males|females # | is the symbol for set union\n",
    "everyone"
   ]
  },
  {
   "cell_type": "code",
   "execution_count": 57,
   "id": "18bf7c73",
   "metadata": {},
   "outputs": [
    {
     "data": {
      "text/plain": [
       "{1, 2, 4}"
      ]
     },
     "execution_count": 57,
     "metadata": {},
     "output_type": "execute_result"
    }
   ],
   "source": [
    "# Set intersection\n",
    "s = set([1,2,4])\n",
    "# Finding inersection between 'everyone' and 's' sets\n",
    "everyone&s # & is the symbol for set intersection"
   ]
  },
  {
   "cell_type": "code",
   "execution_count": 58,
   "id": "6fd02bda",
   "metadata": {},
   "outputs": [
    {
     "data": {
      "text/plain": [
       "{'a', 'b', 'd', 'e', 'h', 'i', 'l', 'm', 'n', 'r', 's', 't'}"
      ]
     },
     "execution_count": 58,
     "metadata": {},
     "output_type": "execute_result"
    }
   ],
   "source": [
    "# Counting the number of unique letters in a word \n",
    "word = 'antidisestablishmentariansim' # a complex word as a string\n",
    "# constructing a set from the given word\n",
    "letters = set(word) # This basically stores each and every UNIQUE character as a different object in the 'letters' set\n",
    "letters"
   ]
  },
  {
   "cell_type": "code",
   "execution_count": 60,
   "id": "fdf3d9d6",
   "metadata": {},
   "outputs": [
    {
     "data": {
      "text/plain": [
       "12"
      ]
     },
     "execution_count": 60,
     "metadata": {},
     "output_type": "execute_result"
    }
   ],
   "source": [
    "# since all objects are unique inside a set, we can just simply count the numbers in the constructed set and that will be the \n",
    "# number of unique letters in the given word\n",
    "numUnique = len(letters)\n",
    "numUnique"
   ]
  },
  {
   "cell_type": "code",
   "execution_count": 63,
   "id": "2b4ad22b",
   "metadata": {},
   "outputs": [
    {
     "data": {
      "text/plain": [
       "{4}"
      ]
     },
     "execution_count": 63,
     "metadata": {},
     "output_type": "execute_result"
    }
   ],
   "source": [
    "# Example\n",
    "x = set([1,2,3])\n",
    "y = set([2,3,4])\n",
    "\n",
    "# Desired output-> {4}\n",
    "\n",
    "# Intersection of sets\n",
    "int1 = x&y\n",
    "int1\n",
    "int2 = y - int1\n",
    "int2\n",
    "\n",
    "# or shorthand: y - x&y"
   ]
  },
  {
   "cell_type": "code",
   "execution_count": 72,
   "id": "618dd617",
   "metadata": {},
   "outputs": [
    {
     "data": {
      "text/plain": [
       "{1, 4}"
      ]
     },
     "execution_count": 72,
     "metadata": {},
     "output_type": "execute_result"
    }
   ],
   "source": [
    "# Desired output-> {1,4}\n",
    "(x|y) - (x&y)"
   ]
  },
  {
   "cell_type": "code",
   "execution_count": 73,
   "id": "c231b5aa",
   "metadata": {},
   "outputs": [
    {
     "data": {
      "text/plain": [
       "['__and__',\n",
       " '__class__',\n",
       " '__contains__',\n",
       " '__delattr__',\n",
       " '__dir__',\n",
       " '__doc__',\n",
       " '__eq__',\n",
       " '__format__',\n",
       " '__ge__',\n",
       " '__getattribute__',\n",
       " '__gt__',\n",
       " '__hash__',\n",
       " '__iand__',\n",
       " '__init__',\n",
       " '__init_subclass__',\n",
       " '__ior__',\n",
       " '__isub__',\n",
       " '__iter__',\n",
       " '__ixor__',\n",
       " '__le__',\n",
       " '__len__',\n",
       " '__lt__',\n",
       " '__ne__',\n",
       " '__new__',\n",
       " '__or__',\n",
       " '__rand__',\n",
       " '__reduce__',\n",
       " '__reduce_ex__',\n",
       " '__repr__',\n",
       " '__ror__',\n",
       " '__rsub__',\n",
       " '__rxor__',\n",
       " '__setattr__',\n",
       " '__sizeof__',\n",
       " '__str__',\n",
       " '__sub__',\n",
       " '__subclasshook__',\n",
       " '__xor__',\n",
       " 'add',\n",
       " 'clear',\n",
       " 'copy',\n",
       " 'difference',\n",
       " 'difference_update',\n",
       " 'discard',\n",
       " 'intersection',\n",
       " 'intersection_update',\n",
       " 'isdisjoint',\n",
       " 'issubset',\n",
       " 'issuperset',\n",
       " 'pop',\n",
       " 'remove',\n",
       " 'symmetric_difference',\n",
       " 'symmetric_difference_update',\n",
       " 'union',\n",
       " 'update']"
      ]
     },
     "execution_count": 73,
     "metadata": {},
     "output_type": "execute_result"
    }
   ],
   "source": [
    "# Directory of attributes available for sets\n",
    "dir(set)"
   ]
  },
  {
   "cell_type": "code",
   "execution_count": 74,
   "id": "8b43a5d6",
   "metadata": {},
   "outputs": [
    {
     "name": "stdout",
     "output_type": "stream",
     "text": [
      "Help on method_descriptor:\n",
      "\n",
      "issubset(...)\n",
      "    Report whether another set contains this set.\n",
      "\n"
     ]
    }
   ],
   "source": [
    "# We want to determine if all elements of set x are in set y\n",
    "# i.e. if set x is a subset of set y\n",
    "help(set.issubset)"
   ]
  },
  {
   "cell_type": "code",
   "execution_count": 76,
   "id": "a3041733",
   "metadata": {},
   "outputs": [
    {
     "data": {
      "text/plain": [
       "False"
      ]
     },
     "execution_count": 76,
     "metadata": {},
     "output_type": "execute_result"
    }
   ],
   "source": [
    "x.issubset(y)\n",
    "# Since x is not a subset of y, False is returned"
   ]
  },
  {
   "cell_type": "markdown",
   "id": "30ff8cfc",
   "metadata": {},
   "source": [
    "<h3>Dictionaries</h3>\n",
    "\n",
    "Dictionaries are mappings from key values to value objects. **Keys are immutable, and values can be anything and are immutable**. Dictionaries consist of ***Key:Value Pairs***.\n",
    "\n",
    "Dictionaries can be used to perform very fast lookups on undordered data.\n",
    "\n",
    "Since dictionaries are not sequences, there is no actual (left to right or vice versa) order for dictionaries. So if we loop over dictionaries, the looping is done in a very arbritary order.\n",
    "\n",
    "***For Example***:\n",
    "*Which of the following data structures may be used as keys in a dictionary?*\n",
    "\n",
    "* Strings\n",
    "* Lists\n",
    "* Tuples\n",
    "\n",
    "**The answer is strings and tuples since keys are immutable ans strings and tuples are immutable data structures/objects. Lists are mutable data structures/objects and thus can not be used as keys in a dictionary.**\n",
    "\n",
    "***While the individual keys of the dictionaries can't be changed since they are immutable, the dictionaries themselves can be changed and new keys (and their correspinding mutable values) can be added***\n"
   ]
  },
  {
   "cell_type": "code",
   "execution_count": 78,
   "id": "7b170bc3",
   "metadata": {},
   "outputs": [
    {
     "data": {
      "text/plain": [
       "{'Tim': 29, 'Jim': 31, 'Pam': 34, 'Sam': 35}"
      ]
     },
     "execution_count": 78,
     "metadata": {},
     "output_type": "execute_result"
    }
   ],
   "source": [
    "# Sample dictionary\n",
    "a = {} # empty dictionary\n",
    "# OR\n",
    "a = dict() # empty dictionary\n",
    "age = {'Tim':29,'Jim':31,'Pam':34,'Sam':35} # Key Variable : Value\n",
    "age"
   ]
  },
  {
   "cell_type": "code",
   "execution_count": 79,
   "id": "2f5a3dc9",
   "metadata": {},
   "outputs": [
    {
     "data": {
      "text/plain": [
       "34"
      ]
     },
     "execution_count": 79,
     "metadata": {},
     "output_type": "execute_result"
    }
   ],
   "source": [
    "# We want to look up someone's age\n",
    "age['Pam'] # Pam's age\n",
    "# Python returns the value corresponding to the key 'Pam'"
   ]
  },
  {
   "cell_type": "code",
   "execution_count": 80,
   "id": "b4a170fc",
   "metadata": {},
   "outputs": [
    {
     "data": {
      "text/plain": [
       "39"
      ]
     },
     "execution_count": 80,
     "metadata": {},
     "output_type": "execute_result"
    }
   ],
   "source": [
    "# Modifying values in a dictionary\n",
    "age['Tim'] = age['Tim'] + 10 # Increasing the age of Tim by 10 years\n",
    "age['Tim']"
   ]
  },
  {
   "cell_type": "code",
   "execution_count": 82,
   "id": "82ec6a3e",
   "metadata": {},
   "outputs": [
    {
     "data": {
      "text/plain": [
       "dict_values([39, 31, 34, 35])"
      ]
     },
     "execution_count": 82,
     "metadata": {},
     "output_type": "execute_result"
    }
   ],
   "source": [
    "# Finding out what all values are in the dictionary\n",
    "age.values()"
   ]
  },
  {
   "cell_type": "code",
   "execution_count": 83,
   "id": "2aa5f363",
   "metadata": {},
   "outputs": [
    {
     "data": {
      "text/plain": [
       "dict_keys(['Tim', 'Jim', 'Pam', 'Sam'])"
      ]
     },
     "execution_count": 83,
     "metadata": {},
     "output_type": "execute_result"
    }
   ],
   "source": [
    "# Finding out what all keys are in the dictionary\n",
    "age.keys()"
   ]
  },
  {
   "cell_type": "code",
   "execution_count": 85,
   "id": "e3db0267",
   "metadata": {},
   "outputs": [
    {
     "data": {
      "text/plain": [
       "dict_keys"
      ]
     },
     "execution_count": 85,
     "metadata": {},
     "output_type": "execute_result"
    }
   ],
   "source": [
    "# When we use keys() or values() methods on the dictionary, Python returns a special type of object called 'Views object'\n",
    "# Views objects provide a dynamic view of the keys or the values in a dictionary\n",
    "names = age.keys()\n",
    "type(names) # dict_keys"
   ]
  },
  {
   "cell_type": "code",
   "execution_count": 86,
   "id": "403fe300",
   "metadata": {},
   "outputs": [
    {
     "data": {
      "text/plain": [
       "{'Tim': 39, 'Jim': 31, 'Pam': 34, 'Sam': 35, 'Tom': 50}"
      ]
     },
     "execution_count": 86,
     "metadata": {},
     "output_type": "execute_result"
    }
   ],
   "source": [
    "# Adding another person to the dictionary\n",
    "age['Tom'] = 50 # A 50 year old Tom is added to the dictionary\n",
    "age"
   ]
  },
  {
   "cell_type": "code",
   "execution_count": 87,
   "id": "866d2963",
   "metadata": {},
   "outputs": [
    {
     "data": {
      "text/plain": [
       "dict_keys(['Tim', 'Jim', 'Pam', 'Sam', 'Tom'])"
      ]
     },
     "execution_count": 87,
     "metadata": {},
     "output_type": "execute_result"
    }
   ],
   "source": [
    "names = age.keys()\n",
    "names # Observation: as the dictionary is modified, the view object will also change automatically"
   ]
  },
  {
   "cell_type": "code",
   "execution_count": 88,
   "id": "96e208ee",
   "metadata": {},
   "outputs": [
    {
     "data": {
      "text/plain": [
       "dict_values([39, 31, 34, 35, 50])"
      ]
     },
     "execution_count": 88,
     "metadata": {},
     "output_type": "execute_result"
    }
   ],
   "source": [
    "ages = age.values()\n",
    "ages"
   ]
  },
  {
   "cell_type": "code",
   "execution_count": 89,
   "id": "46dc0539",
   "metadata": {},
   "outputs": [
    {
     "data": {
      "text/plain": [
       "{'Tim': 39, 'Jim': 31, 'Pam': 34, 'Sam': 35, 'Tom': 50, 'Nick': 30}"
      ]
     },
     "execution_count": 89,
     "metadata": {},
     "output_type": "execute_result"
    }
   ],
   "source": [
    "# Adding a 30 year old person named Nick in the dictionary\n",
    "age['Nick'] = 30\n",
    "age"
   ]
  },
  {
   "cell_type": "code",
   "execution_count": 90,
   "id": "b24bef2e",
   "metadata": {},
   "outputs": [
    {
     "data": {
      "text/plain": [
       "dict_keys(['Tim', 'Jim', 'Pam', 'Sam', 'Tom', 'Nick'])"
      ]
     },
     "execution_count": 90,
     "metadata": {},
     "output_type": "execute_result"
    }
   ],
   "source": [
    "# Showcasing spontaneous changes in the view objects \n",
    "names = age.keys()\n",
    "names"
   ]
  },
  {
   "cell_type": "code",
   "execution_count": 91,
   "id": "3c633129",
   "metadata": {},
   "outputs": [
    {
     "data": {
      "text/plain": [
       "dict_values([39, 31, 34, 35, 50, 30])"
      ]
     },
     "execution_count": 91,
     "metadata": {},
     "output_type": "execute_result"
    }
   ],
   "source": [
    "# Showcasing spontaneous changes in the view objects \n",
    "ages = age.values()\n",
    "ages"
   ]
  },
  {
   "cell_type": "code",
   "execution_count": 92,
   "id": "8a9733ca",
   "metadata": {},
   "outputs": [
    {
     "data": {
      "text/plain": [
       "True"
      ]
     },
     "execution_count": 92,
     "metadata": {},
     "output_type": "execute_result"
    }
   ],
   "source": [
    "# Testing for membership of a dictionary\n",
    "# We want to know whether Tom is a member of the dictionary\n",
    "'Tom' in age # True"
   ]
  },
  {
   "cell_type": "code",
   "execution_count": 93,
   "id": "64ae1d08",
   "metadata": {},
   "outputs": [
    {
     "data": {
      "text/plain": [
       "False"
      ]
     },
     "execution_count": 93,
     "metadata": {},
     "output_type": "execute_result"
    }
   ],
   "source": [
    "'Sofia' in age # False"
   ]
  },
  {
   "cell_type": "code",
   "execution_count": 19,
   "id": "661fc6f7",
   "metadata": {},
   "outputs": [
    {
     "data": {
      "text/plain": [
       "list"
      ]
     },
     "execution_count": 19,
     "metadata": {},
     "output_type": "execute_result"
    }
   ],
   "source": [
    "import random\n",
    "import numpy as np\n",
    "# A dictionary where floating numbers are the keys and np arrays are values\n",
    "# Initialising an empty dictionary\n",
    "dictA = {}\n",
    "# Size of dictionary\n",
    "n = 5\n",
    "# Array\n",
    "arrA = random.random()*np.ones((n,1,2))\n",
    "# arrA\n",
    "# arrA[1]\n",
    "\n",
    "for ii in range(0,n):\n",
    "    dictA[ii] = arrA[ii] # Here interger numbers are keys and numpy arrays are values\n",
    "    # dictA[arrA[ii]] = ii # Trial for numpy arrays being the keys and the integer numbers being the values -> Not Working\n",
    "    \n",
    "# dictA\n",
    "\n",
    "# Obtaining the values of the dictionary as a seperate list\n",
    "arrays = list(dictA.values()) # Typecasting the dictionary values to lists\n",
    "arrays # Arrays is now a list which has numpy arrays as its elements\n",
    "# type(arrays)\n",
    "\n",
    "# Obtaining the keys of the dictionary as a seperate list\n",
    "nums = list(dictA.keys())\n",
    "nums\n",
    "type(nums)"
   ]
  },
  {
   "cell_type": "markdown",
   "id": "be519dcc",
   "metadata": {},
   "source": [
    "<h2>Manipulating Objects</h2>\n",
    "\n",
    "<h3>Dynamic Typing</h3>\n",
    "\n",
    "Any information in the computer is stored in binary (`{010110010101}`) for example. A datatype tells the computer the following things:\n",
    "\n",
    "* The computer needs to read the binary data in blocks of say 32 bits (or 64 bits).\n",
    "* What kind of data the binary data represent.\n",
    "\n",
    "**Typing/Data Type Assignment**: Done in order to ensure that the part of the program reading/receiving the data knows how to interpret the data.\n",
    "\n",
    "C/C++: *Statically Typed*: Type checking performed during code compilation.\n",
    "Pyhon: *Dynamically Typed*: Type checking is performed during run time.\n",
    "\n",
    "**Example**:\n",
    "\n",
    "How does Python interpret the following:\n",
    "`x=3`.\n",
    "\n",
    "Three important parameters: Vatiable, Object, Reference\n",
    "\n",
    "* *Step 1*: Python creates an object (`3`)\n",
    "* *Step 2*: Python creates a variable name `x`\n",
    "* *Step 3*: The variable name is referenced to the object (`x->3`)\n",
    "\n",
    "**Important**: Variable names and objects are stored in different parts of the memory. Variable names can be referenced to objects only, not to other objects.\n",
    "\n",
    "**Illustration of Dyanamic Typing for immutable objects (eg. numbers)**:\n",
    "\n",
    "`x=3\n",
    "y=x\n",
    "y=y-1`\n",
    "\n",
    "* *Step 1*: Python creates an object (`3`)\n",
    "* *Step 2*: Python creates a variable name `x`\n",
    "* *Step 3*: The variable name is referenced to the object (`x->3`)\n",
    "* *Step 4*: Python creates a variable name `y`\n",
    "* *Step 5*: The variable name is referenced to the object to which `x` is referring (`y->3`)\n",
    "* *Step 6*: Since numbers are immutable objects, a new object is created (`2`)\n",
    "* *Step 7*: The variable `y` is referenced to this new object (`2`)\n",
    "\n",
    "*Final Result*: `x=3,y=2`\n",
    "\n",
    "**Illustration of Dyanamic Typing for mutable objects (eg. lists)**:\n",
    "\n",
    "`L1 = [2,3,4]\n",
    "L2=L1\n",
    "L1[0] = 24`\n",
    "\n",
    "* *Step 1*: Python creates an object (`[2,3,4]`)\n",
    "* *Step 2*: Python creates a variable name `L1`\n",
    "* *Step 3*: The variable name is referenced to the object (`L1->[2,3,4]`)\n",
    "* *Step 4*: Python creates a variable name `L2`\n",
    "* *Step 5*: The variable name is referenced to the object to which `L1` is referring (`L2->[2,3,4]`)\n",
    "* *Step 6*: Since lists are mutable objects, no new object is created but the already existing list object is modified with its first element being changed to 24.\n",
    "* *Step 7*: Now both variable names `L1` and `L2` refer to the same modified object.\n",
    "\n",
    "*Final Result*: `L1 = [24,3,4], L2 = [24,3,4]`\n",
    "\n"
   ]
  },
  {
   "cell_type": "code",
   "execution_count": 2,
   "id": "0d5c7071",
   "metadata": {},
   "outputs": [],
   "source": [
    "# Illustration of the above example\n",
    "L1 = [2,3,4]\n",
    "L2 = L1\n",
    "\n",
    "L1[0] = 24"
   ]
  },
  {
   "cell_type": "code",
   "execution_count": 3,
   "id": "e364bdcf",
   "metadata": {},
   "outputs": [
    {
     "data": {
      "text/plain": [
       "[24, 3, 4]"
      ]
     },
     "execution_count": 3,
     "metadata": {},
     "output_type": "execute_result"
    }
   ],
   "source": [
    "L1"
   ]
  },
  {
   "cell_type": "code",
   "execution_count": 4,
   "id": "c528d7b6",
   "metadata": {},
   "outputs": [
    {
     "data": {
      "text/plain": [
       "[24, 3, 4]"
      ]
     },
     "execution_count": 4,
     "metadata": {},
     "output_type": "execute_result"
    }
   ],
   "source": [
    "L2"
   ]
  },
  {
   "cell_type": "markdown",
   "id": "81e427d9",
   "metadata": {},
   "source": [
    "<h4>3 main components of objects</h4>\n",
    "\n",
    "* Type\n",
    "* Value\n",
    "* Identity\n",
    "\n",
    "**Mutable objects can be identical in content and still be different objects**"
   ]
  },
  {
   "cell_type": "code",
   "execution_count": 5,
   "id": "fa222f4a",
   "metadata": {},
   "outputs": [],
   "source": [
    "# Example\n",
    "L = [1,2,3]\n",
    "M = [1,2,3]"
   ]
  },
  {
   "cell_type": "code",
   "execution_count": 6,
   "id": "b11748c8",
   "metadata": {},
   "outputs": [
    {
     "data": {
      "text/plain": [
       "True"
      ]
     },
     "execution_count": 6,
     "metadata": {},
     "output_type": "execute_result"
    }
   ],
   "source": [
    "# Comparing their content\n",
    "L == M # True"
   ]
  },
  {
   "cell_type": "code",
   "execution_count": 7,
   "id": "b300eff0",
   "metadata": {},
   "outputs": [
    {
     "data": {
      "text/plain": [
       "False"
      ]
     },
     "execution_count": 7,
     "metadata": {},
     "output_type": "execute_result"
    }
   ],
   "source": [
    "# Comparing their identity\n",
    "L is M # False"
   ]
  },
  {
   "cell_type": "markdown",
   "id": "d9440265",
   "metadata": {},
   "source": [
    "**ID Function**: Using this we can obtain the ID of the object. The ID of the object refers to its location in the memory.\n",
    "Different objects have different IDs.    "
   ]
  },
  {
   "cell_type": "code",
   "execution_count": 8,
   "id": "82772c69",
   "metadata": {},
   "outputs": [
    {
     "data": {
      "text/plain": [
       "False"
      ]
     },
     "execution_count": 8,
     "metadata": {},
     "output_type": "execute_result"
    }
   ],
   "source": [
    "# Obtaining ID of objects and comparing them\n",
    "id(M) == id(L) # False, since they are different objects, they will have different IDs\n",
    "# id(M) == id(L) is equivalent to L is M"
   ]
  },
  {
   "cell_type": "code",
   "execution_count": 9,
   "id": "f4170050",
   "metadata": {},
   "outputs": [],
   "source": [
    "# Alternative scenario\n",
    "A = [1,2,3]\n",
    "B = A\n",
    "# In this case both A and B refer to the same object so they will be same in content and object "
   ]
  },
  {
   "cell_type": "code",
   "execution_count": 10,
   "id": "f38fd6ed",
   "metadata": {},
   "outputs": [
    {
     "data": {
      "text/plain": [
       "True"
      ]
     },
     "execution_count": 10,
     "metadata": {},
     "output_type": "execute_result"
    }
   ],
   "source": [
    "# Comparing their content\n",
    "A == B # True"
   ]
  },
  {
   "cell_type": "code",
   "execution_count": 11,
   "id": "e1d040cc",
   "metadata": {},
   "outputs": [
    {
     "data": {
      "text/plain": [
       "True"
      ]
     },
     "execution_count": 11,
     "metadata": {},
     "output_type": "execute_result"
    }
   ],
   "source": [
    "# Comparing their object IDs\n",
    "A is B # True"
   ]
  },
  {
   "cell_type": "code",
   "execution_count": 12,
   "id": "67edb537",
   "metadata": {},
   "outputs": [],
   "source": [
    "# What is we want to explicitly create a new object\n",
    "C = [1,2,3]\n",
    "D = list(C)\n",
    "# A new list object is created to which variable name D points. Content wise both the objects are the same."
   ]
  },
  {
   "cell_type": "code",
   "execution_count": 14,
   "id": "bff23c47",
   "metadata": {},
   "outputs": [
    {
     "data": {
      "text/plain": [
       "True"
      ]
     },
     "execution_count": 14,
     "metadata": {},
     "output_type": "execute_result"
    }
   ],
   "source": [
    "# Comparing their content\n",
    "C == D # True"
   ]
  },
  {
   "cell_type": "code",
   "execution_count": 15,
   "id": "86facc57",
   "metadata": {},
   "outputs": [
    {
     "data": {
      "text/plain": [
       "False"
      ]
     },
     "execution_count": 15,
     "metadata": {},
     "output_type": "execute_result"
    }
   ],
   "source": [
    "# Comparing their identity\n",
    "C is D # False"
   ]
  },
  {
   "cell_type": "markdown",
   "id": "429ade0d",
   "metadata": {},
   "source": [
    "<h3>Statements</h3>\n",
    "\n",
    "**Some Examples**:\n",
    "\n",
    "* `return`: used to return values from a function\n",
    "* `import`: used to import different modules\n",
    "* `pass`: used to do nothing, where we need a placeholder for syntactical reasons\n",
    "\n",
    "**Compound Statements**: These contain groups of other statements and they affect the control or execution of those statements in some manner. \n",
    "\n",
    "Compound statements consists of one or more clauses, and a clause consists of a header and a block of code."
   ]
  },
  {
   "cell_type": "code",
   "execution_count": 19,
   "id": "aab187fe",
   "metadata": {},
   "outputs": [
    {
     "name": "stdout",
     "output_type": "stream",
     "text": [
      "x is greater than y\n",
      "This gets printed no matter what\n"
     ]
    }
   ],
   "source": [
    "# Example of a Compound Statement:\n",
    "x=2\n",
    "y=1\n",
    "if x>y: # Header (either True or False)\n",
    "    # Code Block\n",
    "    difference = x-y\n",
    "    print('x is greater than y')\n",
    "print('This gets printed no matter what')"
   ]
  },
  {
   "cell_type": "code",
   "execution_count": 20,
   "id": "f5f4bf6f",
   "metadata": {},
   "outputs": [
    {
     "name": "stdout",
     "output_type": "stream",
     "text": [
      "Now True!\n"
     ]
    }
   ],
   "source": [
    "if False:\n",
    "    print('False!')\n",
    "elif True:\n",
    "    print('Now True!')\n",
    "else:\n",
    "    print('Finally True!')\n",
    "    \n",
    "# Now True! is printed since True is the default state"
   ]
  },
  {
   "cell_type": "markdown",
   "id": "04b02553",
   "metadata": {},
   "source": [
    "<h3>For and While Loops</h3>\n",
    "\n",
    "**Basic Syntax of FOR Loop**:\n",
    "\n",
    "`for <looping variable> in <some range>:\n",
    "      statement`"
   ]
  },
  {
   "cell_type": "code",
   "execution_count": 22,
   "id": "885b534e",
   "metadata": {},
   "outputs": [
    {
     "name": "stdout",
     "output_type": "stream",
     "text": [
      "0\n",
      "1\n",
      "2\n",
      "3\n",
      "4\n",
      "5\n",
      "6\n",
      "7\n",
      "8\n",
      "9\n"
     ]
    }
   ],
   "source": [
    "for x in range(0,10):\n",
    "    print(x)"
   ]
  },
  {
   "cell_type": "code",
   "execution_count": 23,
   "id": "7bd82218",
   "metadata": {},
   "outputs": [
    {
     "data": {
      "text/plain": [
       "dict_keys"
      ]
     },
     "execution_count": 23,
     "metadata": {},
     "output_type": "execute_result"
    }
   ],
   "source": [
    "# A given dictionary\n",
    "diction = {'Tim':23,'Jim':30,'Pam':32,'Sam':35,'Tom':25}\n",
    "names = diction.keys() # Obtaining only the keys from the dictionary\n",
    "type(names)"
   ]
  },
  {
   "cell_type": "code",
   "execution_count": 24,
   "id": "79c6e882",
   "metadata": {},
   "outputs": [
    {
     "name": "stdout",
     "output_type": "stream",
     "text": [
      "Tim\n",
      "Jim\n",
      "Pam\n",
      "Sam\n",
      "Tom\n"
     ]
    }
   ],
   "source": [
    "for name in names:\n",
    "    print(name)"
   ]
  },
  {
   "cell_type": "code",
   "execution_count": 28,
   "id": "27aa26e6",
   "metadata": {},
   "outputs": [
    {
     "name": "stdout",
     "output_type": "stream",
     "text": [
      "Tim\n",
      "Jim\n",
      "Pam\n",
      "Sam\n",
      "Tom\n"
     ]
    }
   ],
   "source": [
    "# Alternative\n",
    "names = list(names) # Converting the dictionary keys object to a list object\n",
    "for i in range(len(names)): # The range consists of the same number of elements as the length of the list object\n",
    "    print(names[i])\n",
    "    "
   ]
  },
  {
   "cell_type": "code",
   "execution_count": 30,
   "id": "319432f0",
   "metadata": {},
   "outputs": [
    {
     "data": {
      "text/plain": [
       "30"
      ]
     },
     "execution_count": 30,
     "metadata": {},
     "output_type": "execute_result"
    }
   ],
   "source": [
    "diction['Jim'] # references to the corresponding value (age)"
   ]
  },
  {
   "cell_type": "code",
   "execution_count": 33,
   "id": "221bcb87",
   "metadata": {},
   "outputs": [
    {
     "name": "stdout",
     "output_type": "stream",
     "text": [
      "Tim 23\n",
      "Jim 30\n",
      "Pam 32\n",
      "Sam 35\n",
      "Tom 25\n"
     ]
    }
   ],
   "source": [
    "for name in diction.keys(): # the name variable loops over all the keys (names) in the dictionary\n",
    "    print(name,diction[name])"
   ]
  },
  {
   "cell_type": "code",
   "execution_count": 34,
   "id": "708bb2e9",
   "metadata": {},
   "outputs": [
    {
     "name": "stdout",
     "output_type": "stream",
     "text": [
      "Jim 30\n",
      "Pam 32\n",
      "Sam 35\n",
      "Tim 23\n",
      "Tom 25\n"
     ]
    }
   ],
   "source": [
    "# Looping over an alphabetically sorted name list\n",
    "for name in sorted(diction.keys()):\n",
    "    print(name,diction[name])"
   ]
  },
  {
   "cell_type": "code",
   "execution_count": 35,
   "id": "7182df9c",
   "metadata": {},
   "outputs": [
    {
     "name": "stdout",
     "output_type": "stream",
     "text": [
      "Tom 25\n",
      "Tim 23\n",
      "Sam 35\n",
      "Pam 32\n",
      "Jim 30\n"
     ]
    }
   ],
   "source": [
    "# Looping over an alphabetically reversed name list\n",
    "for name in sorted(diction.keys(), reverse=True):\n",
    "    print(name,diction[name])"
   ]
  },
  {
   "cell_type": "markdown",
   "id": "870fcc39",
   "metadata": {},
   "source": [
    "**How to differentiate when to use a FOR loop and a WHILE Loop**:\n",
    "\n",
    "Usually if in a loop, we don't know exactly how many times we need to iterate (suppose ietration has to carry on until a tolerance value is reached and we don't know when that tolerance value will be reached) then we prefer a while loop, but if we know exactly how many times we need to run the iterations, then in that case usinf for loop is preferred."
   ]
  },
  {
   "cell_type": "code",
   "execution_count": 39,
   "id": "ebbb0867",
   "metadata": {},
   "outputs": [
    {
     "name": "stdout",
     "output_type": "stream",
     "text": [
      "HelloBrownbear!\n",
      "HelloPolarbear!\n"
     ]
    }
   ],
   "source": [
    "# Example\n",
    "bears = {\"Grizzly\":\"angry\", \"Brown\":\"friendly\", \"Polar\":\"friendly\"}\n",
    "for bear in bears: # for bear in bears.keys() will work too\n",
    "    if bears[bear] == \"friendly\":\n",
    "        print('Hello' + bear + 'bear!')"
   ]
  },
  {
   "cell_type": "code",
   "execution_count": 41,
   "id": "1f0fc240",
   "metadata": {},
   "outputs": [
    {
     "name": "stdout",
     "output_type": "stream",
     "text": [
      "True\n"
     ]
    }
   ],
   "source": [
    "# Example\n",
    "# Objective: The program should print True only if n is a prime\n",
    "n = 7 # some number\n",
    "is_prime = True\n",
    "for i in range(2,n): # Range starts from 2 and goes till n-1\n",
    "    # Thus for n to be prime, there should be no number in the range which makes its remainder with it vanish\n",
    "    if n%i == 0: # If this happens then n is definitely not a prime number\n",
    "        is_prime = False\n",
    "print(is_prime)"
   ]
  },
  {
   "cell_type": "code",
   "execution_count": 42,
   "id": "b4dfe30e",
   "metadata": {},
   "outputs": [
    {
     "name": "stdout",
     "output_type": "stream",
     "text": [
      "7\n"
     ]
    }
   ],
   "source": [
    "# Example\n",
    "n = 100\n",
    "number_times = 0\n",
    "while n>=1:\n",
    "    n//=2 # Equivalent to saying n = n//2 (// represents the floor division, where the decimal number is rounded down to the\n",
    "          # closest whole number)\n",
    "    number_times +=1 # Equivalent to saying number_times = number_times + 1\n",
    "print(number_times)\n",
    "\n",
    "# Code functioning:\n",
    "# 100//2 -> 50 -> number_times = 1\n",
    "# 50//2 -> 25 -> number_times = 2\n",
    "# 25//2 -> 12 -> number_times = 3\n",
    "# 12//2 -> 6 -> number_times = 4\n",
    "# 6//2 -> 3 -> number_times = 5\n",
    "# 3//2 -> 1 -> number_times = 6\n",
    "# 1//2 -> 0 -> number_times = 7\n",
    "# After this the loop terminates as n becomes less than 1 (n=0)"
   ]
  },
  {
   "cell_type": "markdown",
   "id": "7ef43625",
   "metadata": {},
   "source": [
    "<h3>List Comprehensions</h3>\n",
    "\n",
    "If we want to apply a particular operation to all the elements of a list, then create a new list that contains the results.\n",
    "\n",
    "***Why List Comprehensions?***\n",
    "* List Comprehensions are very fast\n",
    "* List Comprehensions are very efficient (a lot can be accomplished in a single line)"
   ]
  },
  {
   "cell_type": "code",
   "execution_count": 2,
   "id": "eebca9c6",
   "metadata": {},
   "outputs": [
    {
     "data": {
      "text/plain": [
       "[0, 1, 4, 9, 16, 25, 36, 49, 64, 81]"
      ]
     },
     "execution_count": 2,
     "metadata": {},
     "output_type": "execute_result"
    }
   ],
   "source": [
    "# Example: we want to get a list with the squares of the numbers 0 to 9\n",
    "squares = [] # Empty list\n",
    "for i in range(0,10):\n",
    "    square = i**2\n",
    "    squares.append(square)\n",
    "squares"
   ]
  },
  {
   "cell_type": "code",
   "execution_count": 3,
   "id": "ad67d1d2",
   "metadata": {},
   "outputs": [
    {
     "data": {
      "text/plain": [
       "[0, 1, 4, 9, 16, 25, 36, 49, 64, 81]"
      ]
     },
     "execution_count": 3,
     "metadata": {},
     "output_type": "execute_result"
    }
   ],
   "source": [
    "# Executing the above example using list comprehensions\n",
    "squares2 = [j**2 for j in range(0,10)]\n",
    "squares2\n",
    "\n",
    "# Example of efficiency: Using list comprehensions we could achieve something which was taking 4 code lines initially in just \n",
    "# one code line"
   ]
  },
  {
   "cell_type": "code",
   "execution_count": 4,
   "id": "0ff7abcf",
   "metadata": {},
   "outputs": [
    {
     "data": {
      "text/plain": [
       "5"
      ]
     },
     "execution_count": 4,
     "metadata": {},
     "output_type": "execute_result"
    }
   ],
   "source": [
    "# Example\n",
    "# sum([list object])\n",
    "sum([i**2 for i in range(0,3)])"
   ]
  },
  {
   "cell_type": "code",
   "execution_count": 6,
   "id": "0687cd67",
   "metadata": {},
   "outputs": [
    {
     "data": {
      "text/plain": [
       "25"
      ]
     },
     "execution_count": 6,
     "metadata": {},
     "output_type": "execute_result"
    }
   ],
   "source": [
    "# Example\n",
    "# We want to sum the odd numbers from 0 through 9\n",
    "sum([i for i in range(0,10) if i%2 != 0])"
   ]
  },
  {
   "cell_type": "code",
   "execution_count": 7,
   "id": "136b04cd",
   "metadata": {},
   "outputs": [
    {
     "data": {
      "text/plain": [
       "25"
      ]
     },
     "execution_count": 7,
     "metadata": {},
     "output_type": "execute_result"
    }
   ],
   "source": [
    "# Doing the above example without list comprehensions\n",
    "sum = 0\n",
    "for i in range(0,10):\n",
    "    if i%2 != 0:\n",
    "        sum = sum + i\n",
    "sum"
   ]
  },
  {
   "cell_type": "markdown",
   "id": "2596b0e4",
   "metadata": {},
   "source": [
    "<h3>Reading and writing files</h3>\n",
    "\n"
   ]
  },
  {
   "cell_type": "code",
   "execution_count": 8,
   "id": "d7582240",
   "metadata": {},
   "outputs": [
    {
     "name": "stdout",
     "output_type": "stream",
     "text": [
      "First Line\n",
      "\n",
      "Second Line\n",
      "\n",
      "Third Line\n"
     ]
    }
   ],
   "source": [
    "filename = 'SampleFile.txt'\n",
    "\n",
    "for line in open(filename): # open(filename) creates a file object\n",
    "    print(line) # The lie variable then loops over all the lines one by one in the file object\n",
    "    "
   ]
  },
  {
   "cell_type": "markdown",
   "id": "c7a1d75b",
   "metadata": {},
   "source": [
    "Even though we can't see it, each line (string) has an extra line break after it. For example:\n",
    "`'First Line'` is effectively `'First Line \\n'`. So even if in the original source text file, there is one linebreak between 2 line (i.e. only one enter), Python will output the lines with 2 linebreaks between them (2 enters).\n",
    "\n",
    "We can use the `rstrip()` method in order to remove the extra linebreaks after the string."
   ]
  },
  {
   "cell_type": "code",
   "execution_count": 9,
   "id": "916c45e1",
   "metadata": {},
   "outputs": [
    {
     "name": "stdout",
     "output_type": "stream",
     "text": [
      "First Line\n",
      "Second Line\n",
      "Third Line\n"
     ]
    }
   ],
   "source": [
    "for line in open(filename):\n",
    "    line = line.rstrip() # Reassignment is done since strings are immutable objects which can't be modified\n",
    "                         # The variable line will now point/refer to the new string object without the line breaks\n",
    "    print(line)"
   ]
  },
  {
   "cell_type": "code",
   "execution_count": 10,
   "id": "b4f9d8dc",
   "metadata": {},
   "outputs": [
    {
     "name": "stdout",
     "output_type": "stream",
     "text": [
      "['First', 'Line']\n",
      "['Second', 'Line']\n",
      "['Third', 'Line']\n"
     ]
    }
   ],
   "source": [
    "# Example: we want to now split each line: First Line -> 'First' and 'Line'\n",
    "for line in open(filename):\n",
    "    line = line.rstrip().split(\" \") # Important: the split method returns a list with the splitted strings as list elements\n",
    "    print(line)"
   ]
  },
  {
   "cell_type": "code",
   "execution_count": 11,
   "id": "01ad96c2",
   "metadata": {},
   "outputs": [
    {
     "data": {
      "text/plain": [
       "7"
      ]
     },
     "execution_count": 11,
     "metadata": {},
     "output_type": "execute_result"
    }
   ],
   "source": [
    "# Writing a File\n",
    "f = open('Output.txt','w') # f = open('Name of the file where we will write','w (for write)')\n",
    "f.write('Python\\n')\n",
    "# The output file is saved in the same directory of the jupyter npotebook we are working on"
   ]
  },
  {
   "cell_type": "code",
   "execution_count": 12,
   "id": "3d1809c7",
   "metadata": {},
   "outputs": [],
   "source": [
    "f.close() # Closing the file object\n",
    "# If the file object is not closed, the written text won't reflect in the output file"
   ]
  },
  {
   "cell_type": "code",
   "execution_count": 13,
   "id": "36a0d5d1",
   "metadata": {},
   "outputs": [
    {
     "name": "stdout",
     "output_type": "stream",
     "text": [
      "['Hello', 'World']\n"
     ]
    }
   ],
   "source": [
    "# Example\n",
    "F = open('input.txt','w')\n",
    "F.write('Hello\\nWorld')\n",
    "F.close()\n",
    "# After this the file input.txt will contain the following:\n",
    "# Hello (after this only one linebreak)\n",
    "# World\n",
    "lines = [] # Empty List\n",
    "for line in open('input.txt'):\n",
    "    lines.append(line.strip()) # Hello and then World will get appended to the empty list as seperate strings\n",
    "print(lines)\n",
    "# Expected Output: ['Hello','World']"
   ]
  },
  {
   "cell_type": "markdown",
   "id": "86f69f5a",
   "metadata": {},
   "source": [
    "<h2>Functions</h2>\n",
    "\n",
    "* Functions are defined using the `def` keyword\n",
    "* The values from the functions are returned using `return` keyword"
   ]
  },
  {
   "cell_type": "code",
   "execution_count": 14,
   "id": "4e53ac38",
   "metadata": {},
   "outputs": [
    {
     "data": {
      "text/plain": [
       "35"
      ]
     },
     "execution_count": 14,
     "metadata": {},
     "output_type": "execute_result"
    }
   ],
   "source": [
    "# A function for adding 2 numbers\n",
    "def add(a,b):\n",
    "    mysum = a + b\n",
    "    return mysum\n",
    "add(23,12)"
   ]
  },
  {
   "cell_type": "markdown",
   "id": "f80a1c95",
   "metadata": {},
   "source": [
    "**All variables assigned in a function are local to that function only i.e. they exist only when the function runs and they are not global variables.**"
   ]
  },
  {
   "cell_type": "code",
   "execution_count": 15,
   "id": "693f8b7f",
   "metadata": {},
   "outputs": [
    {
     "data": {
      "text/plain": [
       "(12, 8)"
      ]
     },
     "execution_count": 15,
     "metadata": {},
     "output_type": "execute_result"
    }
   ],
   "source": [
    "# Using tuples to return multiple values from a function\n",
    "def add_sub(a,b):\n",
    "    mysum = a+b\n",
    "    mysub = a-b\n",
    "    return (mysum,mysub) # Using tuples to return multiple values\n",
    "\n",
    "add_sub(10,2)"
   ]
  },
  {
   "cell_type": "code",
   "execution_count": 16,
   "id": "97b0177f",
   "metadata": {},
   "outputs": [
    {
     "data": {
      "text/plain": [
       "<function __main__.add(a, b)>"
      ]
     },
     "execution_count": 16,
     "metadata": {},
     "output_type": "execute_result"
    }
   ],
   "source": [
    "# We can use 2 different function names for the same function operation\n",
    "add"
   ]
  },
  {
   "cell_type": "code",
   "execution_count": 17,
   "id": "70023aea",
   "metadata": {},
   "outputs": [],
   "source": [
    "newadd = add"
   ]
  },
  {
   "cell_type": "code",
   "execution_count": 20,
   "id": "62c4a175",
   "metadata": {},
   "outputs": [
    {
     "data": {
      "text/plain": [
       "True"
      ]
     },
     "execution_count": 20,
     "metadata": {},
     "output_type": "execute_result"
    }
   ],
   "source": [
    "add(10,2) == newadd(10,2)\n",
    "# Both functions are the same but with different names"
   ]
  },
  {
   "cell_type": "code",
   "execution_count": 22,
   "id": "80c6ab57",
   "metadata": {},
   "outputs": [],
   "source": [
    "# Example\n",
    "def modifyList(list):\n",
    "    list[0] = list[0]*10\n",
    "    # No return value"
   ]
  },
  {
   "cell_type": "code",
   "execution_count": 29,
   "id": "f70bc696",
   "metadata": {},
   "outputs": [
    {
     "data": {
      "text/plain": [
       "[20, 3, 6, 7]"
      ]
     },
     "execution_count": 29,
     "metadata": {},
     "output_type": "execute_result"
    }
   ],
   "source": [
    "L = [2,3,6,7]\n",
    "M = modifyList(L) # Since lists are mutable objects, the original List\n",
    "L"
   ]
  },
  {
   "cell_type": "code",
   "execution_count": 30,
   "id": "9f624b1c",
   "metadata": {},
   "outputs": [
    {
     "data": {
      "text/plain": [
       "True"
      ]
     },
     "execution_count": 30,
     "metadata": {},
     "output_type": "execute_result"
    }
   ],
   "source": [
    "def modifyList1(list):\n",
    "    list[0] = list[0]*10\n",
    "    return list # This function effectively returns the same list (with modifications)\n",
    "M = modifyList1(L) # Basically now the variable name M refers to the same modified list object to which L refers.\n",
    "M is L # M and L wboth will be the same list objects"
   ]
  },
  {
   "cell_type": "code",
   "execution_count": 20,
   "id": "ee210ed5",
   "metadata": {},
   "outputs": [
    {
     "name": "stdout",
     "output_type": "stream",
     "text": [
      "3 1\n"
     ]
    }
   ],
   "source": [
    "# Returning multiple values from a function\n",
    "def sumsub(a,b):\n",
    "    c = a + b\n",
    "    d = a - b\n",
    "    return c,d\n",
    "\n",
    "x,y = sumsub(2,1)\n",
    "print(x,y)"
   ]
  },
  {
   "cell_type": "code",
   "execution_count": 22,
   "id": "fcde0bce",
   "metadata": {},
   "outputs": [
    {
     "name": "stdout",
     "output_type": "stream",
     "text": [
      "[0, 1, 2, 4, 5] [2, 3, 4, 1, 2] 2\n"
     ]
    }
   ],
   "source": [
    "# Returning multiple lists from a list\n",
    "def randListGen():\n",
    "    l1 = [0,1,2,4,5]\n",
    "    l2 = [2,3,4,1,2]\n",
    "    c = 2\n",
    "    return l1,l2,c\n",
    "\n",
    "a,b,c = randListGen()\n",
    "print(a,b,c)"
   ]
  },
  {
   "cell_type": "markdown",
   "id": "be433f3a",
   "metadata": {},
   "source": [
    "<h3>Writing Simple Functions</h3>\n",
    "\n",
    "The function scripts will be written seperately in an editor and the main script will be written in this Jupyter Notebook."
   ]
  },
  {
   "cell_type": "code",
   "execution_count": 34,
   "id": "b504629b",
   "metadata": {},
   "outputs": [
    {
     "data": {
      "text/plain": [
       "[4, 5, 6]"
      ]
     },
     "execution_count": 34,
     "metadata": {},
     "output_type": "execute_result"
    }
   ],
   "source": [
    "# Example 1\n",
    "# Using the intersect.py function created in the directory of this jupyter notebook\n",
    "from intersect import intersect # command to be given if a local function has to be used in the jupyter notebook\n",
    "L1 = [1,2,3,4,5,6]\n",
    "L2 = [10,9,8,7,6,5,4]\n",
    "intersect(L1,L2)"
   ]
  },
  {
   "cell_type": "code",
   "execution_count": 49,
   "id": "80d0e139",
   "metadata": {},
   "outputs": [],
   "source": [
    "# Example 2\n",
    "# Random Password Generator\n",
    "import random\n",
    "from password import password\n",
    "# Using random.choice(<any sequence like string or list>)\n",
    "# password(10)"
   ]
  },
  {
   "cell_type": "code",
   "execution_count": 51,
   "id": "133ce2b6",
   "metadata": {},
   "outputs": [
    {
     "ename": "NameError",
     "evalue": "name 'random' is not defined",
     "output_type": "error",
     "traceback": [
      "\u001b[1;31m---------------------------------------------------------------------------\u001b[0m",
      "\u001b[1;31mNameError\u001b[0m                                 Traceback (most recent call last)",
      "\u001b[1;32m~\\AppData\\Local\\Temp/ipykernel_11824/512532690.py\u001b[0m in \u001b[0;36m<module>\u001b[1;34m\u001b[0m\n\u001b[1;32m----> 1\u001b[1;33m \u001b[0mpassword\u001b[0m\u001b[1;33m(\u001b[0m\u001b[1;36m10\u001b[0m\u001b[1;33m)\u001b[0m\u001b[1;33m\u001b[0m\u001b[1;33m\u001b[0m\u001b[0m\n\u001b[0m\u001b[0;32m      2\u001b[0m \u001b[1;31m# For some reason, the imported random module is not getting recognized by Jupyter Notebook, whether the random module is\u001b[0m\u001b[1;33m\u001b[0m\u001b[1;33m\u001b[0m\u001b[1;33m\u001b[0m\u001b[0m\n\u001b[0;32m      3\u001b[0m \u001b[1;31m# imported into the function script or in the main executable\u001b[0m\u001b[1;33m\u001b[0m\u001b[1;33m\u001b[0m\u001b[1;33m\u001b[0m\u001b[0m\n\u001b[0;32m      4\u001b[0m \u001b[1;31m# If the random module is imported into the function file and then run on the interactive console of Spyder, it is working\u001b[0m\u001b[1;33m\u001b[0m\u001b[1;33m\u001b[0m\u001b[1;33m\u001b[0m\u001b[0m\n",
      "\u001b[1;32m~\\OneDrive - Students RWTH Aachen University\\Desktop\\IMP Stuff\\Python for Research\\password.py\u001b[0m in \u001b[0;36mpassword\u001b[1;34m(length)\u001b[0m\n\u001b[0;32m      4\u001b[0m     \u001b[0mpw\u001b[0m \u001b[1;33m=\u001b[0m \u001b[0mstr\u001b[0m\u001b[1;33m(\u001b[0m\u001b[1;33m)\u001b[0m \u001b[1;31m# Empty String\u001b[0m\u001b[1;33m\u001b[0m\u001b[1;33m\u001b[0m\u001b[0m\n\u001b[0;32m      5\u001b[0m     \u001b[0mchars\u001b[0m \u001b[1;33m=\u001b[0m \u001b[1;34m'abcdefghijklmnopqrstuvwxyz'\u001b[0m\u001b[1;33m\u001b[0m\u001b[1;33m\u001b[0m\u001b[0m\n\u001b[1;32m----> 6\u001b[1;33m     \u001b[1;32mfor\u001b[0m \u001b[0mi\u001b[0m \u001b[1;32min\u001b[0m \u001b[0mrange\u001b[0m\u001b[1;33m(\u001b[0m\u001b[1;36m0\u001b[0m\u001b[1;33m,\u001b[0m\u001b[0mlength\u001b[0m\u001b[1;33m)\u001b[0m\u001b[1;33m:\u001b[0m\u001b[1;33m\u001b[0m\u001b[1;33m\u001b[0m\u001b[0m\n\u001b[0m\u001b[0;32m      7\u001b[0m         \u001b[0mpw\u001b[0m \u001b[1;33m=\u001b[0m \u001b[0mpw\u001b[0m \u001b[1;33m+\u001b[0m \u001b[0mrandom\u001b[0m\u001b[1;33m.\u001b[0m\u001b[0mchoice\u001b[0m\u001b[1;33m(\u001b[0m\u001b[0mchars\u001b[0m\u001b[1;33m)\u001b[0m \u001b[1;31m# Selecting random characters from the string chars and concatenating to the string\u001b[0m\u001b[1;33m\u001b[0m\u001b[1;33m\u001b[0m\u001b[0m\n\u001b[0;32m      8\u001b[0m         \u001b[1;31m# Reassignment is done as strings are immutable objects\u001b[0m\u001b[1;33m\u001b[0m\u001b[1;33m\u001b[0m\u001b[1;33m\u001b[0m\u001b[0m\n",
      "\u001b[1;31mNameError\u001b[0m: name 'random' is not defined"
     ]
    }
   ],
   "source": [
    "password(10) \n",
    "# For some reason, the imported random module is not getting recognized by Jupyter Notebook, whether the random module is\n",
    "# imported into the function script or in the main executable\n",
    "# If the random module is imported into the function file and then run on the interactive console of Spyder, it is working"
   ]
  },
  {
   "cell_type": "markdown",
   "id": "ff54c98c",
   "metadata": {},
   "source": [
    "***VERY VERY IMPORTANT***: *When the function script is modified, it should be run once, otherwise Python doesn't recognise any of the modifications in the function script.*"
   ]
  }
 ],
 "metadata": {
  "kernelspec": {
   "display_name": "Python 3 (ipykernel)",
   "language": "python",
   "name": "python3"
  },
  "language_info": {
   "codemirror_mode": {
    "name": "ipython",
    "version": 3
   },
   "file_extension": ".py",
   "mimetype": "text/x-python",
   "name": "python",
   "nbconvert_exporter": "python",
   "pygments_lexer": "ipython3",
   "version": "3.8.12"
  }
 },
 "nbformat": 4,
 "nbformat_minor": 5
}
